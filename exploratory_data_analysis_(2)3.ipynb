{
  "cells": [
    {
      "cell_type": "markdown",
      "id": "753ff4c3",
      "metadata": {
        "id": "753ff4c3"
      },
      "source": [
        "# Exploratory Data Analysis"
      ]
    },
    {
      "cell_type": "markdown",
      "id": "b74b5792",
      "metadata": {
        "id": "b74b5792"
      },
      "source": [
        "Exploratory data analysis is the first step towards solving any data science or machine learning problem. It refers to the critical process of performing initial investigations on the data we have available and getting familiar with it. EDA makes a thorough examination on our dataset to find trends, patterns, and relationships between features within the data with the help of graphs and plots using libraries like Matplotlib and Seaborn. We will also be using the Pandas library. Pandas makes importing, analysing and visualizing much easier.\n",
        "In this section, we will use the Titanic dataset, a popular introductory dataset, to learn the step by step exploratory data analysis process. The purpose is to bring the reader in the position of going on with its own ideas, and by the end of this course searching for a dataset with a subject of its own interest to explore."
      ]
    },
    {
      "cell_type": "markdown",
      "id": "f61bbfe7",
      "metadata": {
        "id": "f61bbfe7"
      },
      "source": [
        "### Understanding the problem statement"
      ]
    },
    {
      "cell_type": "markdown",
      "id": "83724bf5",
      "metadata": {
        "id": "83724bf5"
      },
      "source": [
        "Before we begin to solve the problem, we need to make sure we understand the problem statement very well. \n",
        "\n",
        "Problem definition: \n",
        "\n",
        "The sinking of the Titanic resulted in the death of 1502 out of 2224 passengers and crew. While there was some element of luck involved in surviving, it seems some groups of people were more likely to survive than others. Apparently there were some patterns in the people who died and the people who survived. The problem here is that we are given certain data with specific characteristics of each passenger and the data is already labeled which let us know if the passenger lived or died. We have also been given a test dataset with more Titanic passengers and their characteristics but this dataset is not labeled, so we don't know who lived and who died. \n",
        "\n",
        "We need to build a predictive model that answers the question: “what sorts of people were more likely to survive?” using passenger data (ie name, age, gender, socio-economic class, etc). To be able to predict which passengers were more likely to survive we will use a couple of algorithms to train the first dataset and when we decide which one is the best, we will use it to predict what passengers in the unlabeled dataset survived.\n",
        "\n",
        "For this specific section, we will focus on the Titanic exploratory data analysis only.\n",
        "\n",
        "\n",
        "-If you want to read the complete problem statement and data description, it can be found here:\n",
        "\n",
        "https://www.kaggle.com/competitions/titanic/\n",
        "\n",
        "-Please download the data directly from the following link:\n",
        "\n",
        "https://github.com/4GeeksAcademy/machine-learning-content/tree/master/05-3d-data/assets"
      ]
    },
    {
      "cell_type": "markdown",
      "id": "7cd8ca81",
      "metadata": {
        "id": "7cd8ca81"
      },
      "source": [
        "### Importing libraries and reading the dataset"
      ]
    },
    {
      "cell_type": "markdown",
      "id": "cbd17715",
      "metadata": {
        "id": "cbd17715"
      },
      "source": [
        "Our next step is to read in the data and do some preliminary exploration. This will help us figure out how we want to approach creating groups and finding patterns. In order to do that we need to import some necessary libraries (for this example). In case any of them does not appear, make sure to install it."
      ]
    },
    {
      "cell_type": "code",
      "execution_count": 65,
      "id": "23d16408",
      "metadata": {
        "id": "23d16408"
      },
      "outputs": [],
      "source": [
        "#Importing necessary libraries\n",
        "\n",
        "import pandas as pd \n",
        "import numpy as np \n",
        "import matplotlib.pyplot as plt  \n",
        "import seaborn as sns"
      ]
    },
    {
      "cell_type": "markdown",
      "id": "9ef81b61",
      "metadata": {
        "id": "9ef81b61"
      },
      "source": [
        "The data is stored as a comma-separated values, or csv file, where each row is separated by a new line, and each column by a comma (,). In order to read in the data, we’ll need to use the pandas.read_csv function. This function will take in a csv file and return a DataFrame."
      ]
    },
    {
      "cell_type": "code",
      "execution_count": 2,
      "id": "7b4fde5c",
      "metadata": {
        "id": "7b4fde5c"
      },
      "outputs": [],
      "source": [
        "#Reading the train and test data and assign to a variable\n",
        "\n",
        "train_data = pd.read_csv('/content/titanic_train.csv')\n",
        "test_data = pd.read_csv('/content/titanic_test.csv')"
      ]
    },
    {
      "cell_type": "markdown",
      "id": "fde28ea7",
      "metadata": {
        "id": "fde28ea7"
      },
      "source": [
        "### Finding dimensions, shape, size of the dataframe using Pandas"
      ]
    },
    {
      "cell_type": "markdown",
      "id": "537b1fcc",
      "metadata": {
        "id": "537b1fcc"
      },
      "source": [
        "After reading the dataframes available, we will analyze their shape, size and the kind of data available.\n",
        "We will do this for both train and test dataset. It is important to also write observations at the end of each step. \n",
        "In this initial data exploration we will use:\n",
        "\n",
        "-data.head() returns the first 5 rows of the dataframe\n",
        "\n",
        "-data.shape displays the number of rows and number of columns of the dataframe\n",
        "\n",
        "-data.info() prints a concise summary with the index dtype, column dtypes, non-null values and memory usage."
      ]
    },
    {
      "cell_type": "code",
      "execution_count": 3,
      "id": "f3e58591",
      "metadata": {
        "colab": {
          "base_uri": "https://localhost:8080/"
        },
        "id": "f3e58591",
        "outputId": "0f8c7e78-b874-49a0-f332-1d53b38b5693"
      },
      "outputs": [
        {
          "data": {
            "text/plain": [
              "(891, 12)"
            ]
          },
          "execution_count": 3,
          "metadata": {},
          "output_type": "execute_result"
        }
      ],
      "source": [
        "#Let's see how many rows and columns does my train_data has.\n",
        "train_data.shape"
      ]
    },
    {
      "cell_type": "code",
      "execution_count": 4,
      "id": "b676e1c2",
      "metadata": {
        "colab": {
          "base_uri": "https://localhost:8080/",
          "height": 548
        },
        "id": "b676e1c2",
        "outputId": "bb83fc7d-2b00-464a-fbfc-3836b5e68160"
      },
      "outputs": [
        {
          "data": {
            "text/html": [
              "\n",
              "  <div id=\"df-a830ff0c-6674-421e-9031-34c68d3ce0c0\">\n",
              "    <div class=\"colab-df-container\">\n",
              "      <div>\n",
              "<style scoped>\n",
              "    .dataframe tbody tr th:only-of-type {\n",
              "        vertical-align: middle;\n",
              "    }\n",
              "\n",
              "    .dataframe tbody tr th {\n",
              "        vertical-align: top;\n",
              "    }\n",
              "\n",
              "    .dataframe thead th {\n",
              "        text-align: right;\n",
              "    }\n",
              "</style>\n",
              "<table border=\"1\" class=\"dataframe\">\n",
              "  <thead>\n",
              "    <tr style=\"text-align: right;\">\n",
              "      <th></th>\n",
              "      <th>PassengerId</th>\n",
              "      <th>Survived</th>\n",
              "      <th>Pclass</th>\n",
              "      <th>Name</th>\n",
              "      <th>Sex</th>\n",
              "      <th>Age</th>\n",
              "      <th>SibSp</th>\n",
              "      <th>Parch</th>\n",
              "      <th>Ticket</th>\n",
              "      <th>Fare</th>\n",
              "      <th>Cabin</th>\n",
              "      <th>Embarked</th>\n",
              "    </tr>\n",
              "  </thead>\n",
              "  <tbody>\n",
              "    <tr>\n",
              "      <th>0</th>\n",
              "      <td>1</td>\n",
              "      <td>0</td>\n",
              "      <td>3</td>\n",
              "      <td>Braund, Mr. Owen Harris</td>\n",
              "      <td>male</td>\n",
              "      <td>22.0</td>\n",
              "      <td>1</td>\n",
              "      <td>0</td>\n",
              "      <td>A/5 21171</td>\n",
              "      <td>7.2500</td>\n",
              "      <td>NaN</td>\n",
              "      <td>S</td>\n",
              "    </tr>\n",
              "    <tr>\n",
              "      <th>1</th>\n",
              "      <td>2</td>\n",
              "      <td>1</td>\n",
              "      <td>1</td>\n",
              "      <td>Cumings, Mrs. John Bradley (Florence Briggs Th...</td>\n",
              "      <td>female</td>\n",
              "      <td>38.0</td>\n",
              "      <td>1</td>\n",
              "      <td>0</td>\n",
              "      <td>PC 17599</td>\n",
              "      <td>71.2833</td>\n",
              "      <td>C85</td>\n",
              "      <td>C</td>\n",
              "    </tr>\n",
              "    <tr>\n",
              "      <th>2</th>\n",
              "      <td>3</td>\n",
              "      <td>1</td>\n",
              "      <td>3</td>\n",
              "      <td>Heikkinen, Miss. Laina</td>\n",
              "      <td>female</td>\n",
              "      <td>26.0</td>\n",
              "      <td>0</td>\n",
              "      <td>0</td>\n",
              "      <td>STON/O2. 3101282</td>\n",
              "      <td>7.9250</td>\n",
              "      <td>NaN</td>\n",
              "      <td>S</td>\n",
              "    </tr>\n",
              "    <tr>\n",
              "      <th>3</th>\n",
              "      <td>4</td>\n",
              "      <td>1</td>\n",
              "      <td>1</td>\n",
              "      <td>Futrelle, Mrs. Jacques Heath (Lily May Peel)</td>\n",
              "      <td>female</td>\n",
              "      <td>35.0</td>\n",
              "      <td>1</td>\n",
              "      <td>0</td>\n",
              "      <td>113803</td>\n",
              "      <td>53.1000</td>\n",
              "      <td>C123</td>\n",
              "      <td>S</td>\n",
              "    </tr>\n",
              "    <tr>\n",
              "      <th>4</th>\n",
              "      <td>5</td>\n",
              "      <td>0</td>\n",
              "      <td>3</td>\n",
              "      <td>Allen, Mr. William Henry</td>\n",
              "      <td>male</td>\n",
              "      <td>35.0</td>\n",
              "      <td>0</td>\n",
              "      <td>0</td>\n",
              "      <td>373450</td>\n",
              "      <td>8.0500</td>\n",
              "      <td>NaN</td>\n",
              "      <td>S</td>\n",
              "    </tr>\n",
              "  </tbody>\n",
              "</table>\n",
              "</div>\n",
              "      <button class=\"colab-df-convert\" onclick=\"convertToInteractive('df-a830ff0c-6674-421e-9031-34c68d3ce0c0')\"\n",
              "              title=\"Convert this dataframe to an interactive table.\"\n",
              "              style=\"display:none;\">\n",
              "        \n",
              "  <svg xmlns=\"http://www.w3.org/2000/svg\" height=\"24px\"viewBox=\"0 0 24 24\"\n",
              "       width=\"24px\">\n",
              "    <path d=\"M0 0h24v24H0V0z\" fill=\"none\"/>\n",
              "    <path d=\"M18.56 5.44l.94 2.06.94-2.06 2.06-.94-2.06-.94-.94-2.06-.94 2.06-2.06.94zm-11 1L8.5 8.5l.94-2.06 2.06-.94-2.06-.94L8.5 2.5l-.94 2.06-2.06.94zm10 10l.94 2.06.94-2.06 2.06-.94-2.06-.94-.94-2.06-.94 2.06-2.06.94z\"/><path d=\"M17.41 7.96l-1.37-1.37c-.4-.4-.92-.59-1.43-.59-.52 0-1.04.2-1.43.59L10.3 9.45l-7.72 7.72c-.78.78-.78 2.05 0 2.83L4 21.41c.39.39.9.59 1.41.59.51 0 1.02-.2 1.41-.59l7.78-7.78 2.81-2.81c.8-.78.8-2.07 0-2.86zM5.41 20L4 18.59l7.72-7.72 1.47 1.35L5.41 20z\"/>\n",
              "  </svg>\n",
              "      </button>\n",
              "      \n",
              "  <style>\n",
              "    .colab-df-container {\n",
              "      display:flex;\n",
              "      flex-wrap:wrap;\n",
              "      gap: 12px;\n",
              "    }\n",
              "\n",
              "    .colab-df-convert {\n",
              "      background-color: #E8F0FE;\n",
              "      border: none;\n",
              "      border-radius: 50%;\n",
              "      cursor: pointer;\n",
              "      display: none;\n",
              "      fill: #1967D2;\n",
              "      height: 32px;\n",
              "      padding: 0 0 0 0;\n",
              "      width: 32px;\n",
              "    }\n",
              "\n",
              "    .colab-df-convert:hover {\n",
              "      background-color: #E2EBFA;\n",
              "      box-shadow: 0px 1px 2px rgba(60, 64, 67, 0.3), 0px 1px 3px 1px rgba(60, 64, 67, 0.15);\n",
              "      fill: #174EA6;\n",
              "    }\n",
              "\n",
              "    [theme=dark] .colab-df-convert {\n",
              "      background-color: #3B4455;\n",
              "      fill: #D2E3FC;\n",
              "    }\n",
              "\n",
              "    [theme=dark] .colab-df-convert:hover {\n",
              "      background-color: #434B5C;\n",
              "      box-shadow: 0px 1px 3px 1px rgba(0, 0, 0, 0.15);\n",
              "      filter: drop-shadow(0px 1px 2px rgba(0, 0, 0, 0.3));\n",
              "      fill: #FFFFFF;\n",
              "    }\n",
              "  </style>\n",
              "\n",
              "      <script>\n",
              "        const buttonEl =\n",
              "          document.querySelector('#df-a830ff0c-6674-421e-9031-34c68d3ce0c0 button.colab-df-convert');\n",
              "        buttonEl.style.display =\n",
              "          google.colab.kernel.accessAllowed ? 'block' : 'none';\n",
              "\n",
              "        async function convertToInteractive(key) {\n",
              "          const element = document.querySelector('#df-a830ff0c-6674-421e-9031-34c68d3ce0c0');\n",
              "          const dataTable =\n",
              "            await google.colab.kernel.invokeFunction('convertToInteractive',\n",
              "                                                     [key], {});\n",
              "          if (!dataTable) return;\n",
              "\n",
              "          const docLinkHtml = 'Like what you see? Visit the ' +\n",
              "            '<a target=\"_blank\" href=https://colab.research.google.com/notebooks/data_table.ipynb>data table notebook</a>'\n",
              "            + ' to learn more about interactive tables.';\n",
              "          element.innerHTML = '';\n",
              "          dataTable['output_type'] = 'display_data';\n",
              "          await google.colab.output.renderOutput(dataTable, element);\n",
              "          const docLink = document.createElement('div');\n",
              "          docLink.innerHTML = docLinkHtml;\n",
              "          element.appendChild(docLink);\n",
              "        }\n",
              "      </script>\n",
              "    </div>\n",
              "  </div>\n",
              "  "
            ],
            "text/plain": [
              "   PassengerId  Survived  Pclass  \\\n",
              "0            1         0       3   \n",
              "1            2         1       1   \n",
              "2            3         1       3   \n",
              "3            4         1       1   \n",
              "4            5         0       3   \n",
              "\n",
              "                                                Name     Sex   Age  SibSp  \\\n",
              "0                            Braund, Mr. Owen Harris    male  22.0      1   \n",
              "1  Cumings, Mrs. John Bradley (Florence Briggs Th...  female  38.0      1   \n",
              "2                             Heikkinen, Miss. Laina  female  26.0      0   \n",
              "3       Futrelle, Mrs. Jacques Heath (Lily May Peel)  female  35.0      1   \n",
              "4                           Allen, Mr. William Henry    male  35.0      0   \n",
              "\n",
              "   Parch            Ticket     Fare Cabin Embarked  \n",
              "0      0         A/5 21171   7.2500   NaN        S  \n",
              "1      0          PC 17599  71.2833   C85        C  \n",
              "2      0  STON/O2. 3101282   7.9250   NaN        S  \n",
              "3      0            113803  53.1000  C123        S  \n",
              "4      0            373450   8.0500   NaN        S  "
            ]
          },
          "execution_count": 4,
          "metadata": {},
          "output_type": "execute_result"
        }
      ],
      "source": [
        "#Looking at the first rows of our train_data. If we want to see more than 5 rows, we just have to add the number of rows as parameter.\n",
        "train_data.head()"
      ]
    },
    {
      "cell_type": "code",
      "execution_count": 5,
      "id": "Gnxy9QIfwnjZ",
      "metadata": {
        "colab": {
          "base_uri": "https://localhost:8080/"
        },
        "id": "Gnxy9QIfwnjZ",
        "outputId": "4a36b1a2-c51d-41db-831e-31ab7f9c020a"
      },
      "outputs": [
        {
          "data": {
            "text/plain": [
              "PassengerId      0\n",
              "Survived         0\n",
              "Pclass           0\n",
              "Name             0\n",
              "Sex              0\n",
              "Age            177\n",
              "SibSp            0\n",
              "Parch            0\n",
              "Ticket           0\n",
              "Fare             0\n",
              "Cabin          687\n",
              "Embarked         2\n",
              "dtype: int64"
            ]
          },
          "execution_count": 5,
          "metadata": {},
          "output_type": "execute_result"
        }
      ],
      "source": [
        "train_data.isna().sum()"
      ]
    },
    {
      "cell_type": "code",
      "execution_count": 49,
      "id": "MK-wD3u4xzkv",
      "metadata": {
        "id": "MK-wD3u4xzkv"
      },
      "outputs": [],
      "source": [
        "def categorize_age(input_data, age_bin_size):\n",
        "  i = 'a'\n",
        "  for a in range(0,91,age_bin_size):\n",
        "    input_data.loc[(input_data['Age'] >= a) & (input_data['Age'] < a+age_bin_size),\n",
        "                   'age bin'] = i + '. [' + str(a) + ',' + str(a+age_bin_size) + ')'\n",
        "    i = chr(ord(i) + 1)\n",
        "  input_data.loc[(input_data['Age'].isna()), 'age bin'] = 'null'"
      ]
    },
    {
      "cell_type": "code",
      "execution_count": 69,
      "id": "ith2kkXtp2EH",
      "metadata": {
        "colab": {
          "base_uri": "https://localhost:8080/",
          "height": 148
        },
        "id": "ith2kkXtp2EH",
        "outputId": "53006d9d-0561-4bbb-a330-245fe177d84e"
      },
      "outputs": [
        {
          "ename": "SyntaxError",
          "evalue": "ignored",
          "output_type": "error",
          "traceback": [
            "\u001b[0;36m  File \u001b[0;32m\"<ipython-input-69-dbcabd202116>\"\u001b[0;36m, line \u001b[0;32m6\u001b[0m\n\u001b[0;31m    g = sns.catplot(y='age_bin', x='mean',data=age_dist, saturation=.5, kind='bar', ci=None)\u001b[0m\n\u001b[0m    ^\u001b[0m\n\u001b[0;31mSyntaxError\u001b[0m\u001b[0;31m:\u001b[0m invalid syntax\n"
          ]
        }
      ],
      "source": [
        "df = train_data.copy()\n",
        "df['age_bin'] = None \n",
        "categorize_age(df,9)\n",
        "df['Survived'] = df['Survived'].astype(int)\n",
        "age_dist = df.groupby(['age_bin']['Survived'].describe().reset_index().sort_values('age_bin')\n",
        "g = sns.catplot(y='age_bin', x='mean',data=age_dist, saturation=.5, kind='bar', ci=None)\n",
        "g.set_xlabels('survival_rate')\n",
        "plt.axvline(0.4, 0, 3, color='turquoise')"
      ]
    },
    {
      "cell_type": "code",
      "execution_count": 19,
      "id": "2GnlTB4v0I_T",
      "metadata": {
        "colab": {
          "base_uri": "https://localhost:8080/"
        },
        "id": "2GnlTB4v0I_T",
        "outputId": "4161ba55-762d-49c2-9d08-8920a4f2908c"
      },
      "outputs": [
        {
          "name": "stdout",
          "output_type": "stream",
          "text": [
            "<class 'pandas.core.frame.DataFrame'>\n",
            "RangeIndex: 891 entries, 0 to 890\n",
            "Data columns (total 12 columns):\n",
            " #   Column       Non-Null Count  Dtype  \n",
            "---  ------       --------------  -----  \n",
            " 0   PassengerId  891 non-null    int64  \n",
            " 1   Survived     891 non-null    int64  \n",
            " 2   Pclass       891 non-null    int64  \n",
            " 3   Name         891 non-null    object \n",
            " 4   Sex          891 non-null    object \n",
            " 5   Age          714 non-null    float64\n",
            " 6   SibSp        891 non-null    int64  \n",
            " 7   Parch        891 non-null    int64  \n",
            " 8   Ticket       891 non-null    object \n",
            " 9   Fare         891 non-null    float64\n",
            " 10  Cabin        204 non-null    object \n",
            " 11  Embarked     889 non-null    object \n",
            "dtypes: float64(2), int64(5), object(5)\n",
            "memory usage: 83.7+ KB\n"
          ]
        }
      ],
      "source": [
        "train_data.info()"
      ]
    },
    {
      "cell_type": "code",
      "execution_count": 73,
      "id": "MO_vbloMuU39",
      "metadata": {
        "colab": {
          "base_uri": "https://localhost:8080/",
          "height": 444
        },
        "id": "MO_vbloMuU39",
        "outputId": "f39d5118-61a1-49ce-d208-c56499c6e5f7"
      },
      "outputs": [
        {
          "data": {
            "text/html": [
              "\n",
              "  <div id=\"df-79e1c89f-9869-4018-a2e9-01dfa3a5d1ab\">\n",
              "    <div class=\"colab-df-container\">\n",
              "      <div>\n",
              "<style scoped>\n",
              "    .dataframe tbody tr th:only-of-type {\n",
              "        vertical-align: middle;\n",
              "    }\n",
              "\n",
              "    .dataframe tbody tr th {\n",
              "        vertical-align: top;\n",
              "    }\n",
              "\n",
              "    .dataframe thead th {\n",
              "        text-align: right;\n",
              "    }\n",
              "</style>\n",
              "<table border=\"1\" class=\"dataframe\">\n",
              "  <thead>\n",
              "    <tr style=\"text-align: right;\">\n",
              "      <th></th>\n",
              "      <th>PassengerId</th>\n",
              "      <th>Survived</th>\n",
              "      <th>Pclass</th>\n",
              "      <th>Name</th>\n",
              "      <th>Sex</th>\n",
              "      <th>Age</th>\n",
              "      <th>SibSp</th>\n",
              "      <th>Parch</th>\n",
              "      <th>Ticket</th>\n",
              "      <th>Fare</th>\n",
              "      <th>Cabin</th>\n",
              "      <th>Embarked</th>\n",
              "    </tr>\n",
              "  </thead>\n",
              "  <tbody>\n",
              "    <tr>\n",
              "      <th>302</th>\n",
              "      <td>303</td>\n",
              "      <td>0</td>\n",
              "      <td>3</td>\n",
              "      <td>Johnson, Mr. William Cahoone Jr</td>\n",
              "      <td>male</td>\n",
              "      <td>19.0</td>\n",
              "      <td>0</td>\n",
              "      <td>0</td>\n",
              "      <td>LINE</td>\n",
              "      <td>0.0000</td>\n",
              "      <td>NaN</td>\n",
              "      <td>S</td>\n",
              "    </tr>\n",
              "    <tr>\n",
              "      <th>663</th>\n",
              "      <td>664</td>\n",
              "      <td>0</td>\n",
              "      <td>3</td>\n",
              "      <td>Coleff, Mr. Peju</td>\n",
              "      <td>male</td>\n",
              "      <td>36.0</td>\n",
              "      <td>0</td>\n",
              "      <td>0</td>\n",
              "      <td>349210</td>\n",
              "      <td>7.4958</td>\n",
              "      <td>NaN</td>\n",
              "      <td>S</td>\n",
              "    </tr>\n",
              "    <tr>\n",
              "      <th>195</th>\n",
              "      <td>196</td>\n",
              "      <td>1</td>\n",
              "      <td>1</td>\n",
              "      <td>Lurette, Miss. Elise</td>\n",
              "      <td>female</td>\n",
              "      <td>58.0</td>\n",
              "      <td>0</td>\n",
              "      <td>0</td>\n",
              "      <td>PC 17569</td>\n",
              "      <td>146.5208</td>\n",
              "      <td>B80</td>\n",
              "      <td>C</td>\n",
              "    </tr>\n",
              "    <tr>\n",
              "      <th>399</th>\n",
              "      <td>400</td>\n",
              "      <td>1</td>\n",
              "      <td>2</td>\n",
              "      <td>Trout, Mrs. William H (Jessie L)</td>\n",
              "      <td>female</td>\n",
              "      <td>28.0</td>\n",
              "      <td>0</td>\n",
              "      <td>0</td>\n",
              "      <td>240929</td>\n",
              "      <td>12.6500</td>\n",
              "      <td>NaN</td>\n",
              "      <td>S</td>\n",
              "    </tr>\n",
              "    <tr>\n",
              "      <th>724</th>\n",
              "      <td>725</td>\n",
              "      <td>1</td>\n",
              "      <td>1</td>\n",
              "      <td>Chambers, Mr. Norman Campbell</td>\n",
              "      <td>male</td>\n",
              "      <td>27.0</td>\n",
              "      <td>1</td>\n",
              "      <td>0</td>\n",
              "      <td>113806</td>\n",
              "      <td>53.1000</td>\n",
              "      <td>E8</td>\n",
              "      <td>S</td>\n",
              "    </tr>\n",
              "  </tbody>\n",
              "</table>\n",
              "</div>\n",
              "      <button class=\"colab-df-convert\" onclick=\"convertToInteractive('df-79e1c89f-9869-4018-a2e9-01dfa3a5d1ab')\"\n",
              "              title=\"Convert this dataframe to an interactive table.\"\n",
              "              style=\"display:none;\">\n",
              "        \n",
              "  <svg xmlns=\"http://www.w3.org/2000/svg\" height=\"24px\"viewBox=\"0 0 24 24\"\n",
              "       width=\"24px\">\n",
              "    <path d=\"M0 0h24v24H0V0z\" fill=\"none\"/>\n",
              "    <path d=\"M18.56 5.44l.94 2.06.94-2.06 2.06-.94-2.06-.94-.94-2.06-.94 2.06-2.06.94zm-11 1L8.5 8.5l.94-2.06 2.06-.94-2.06-.94L8.5 2.5l-.94 2.06-2.06.94zm10 10l.94 2.06.94-2.06 2.06-.94-2.06-.94-.94-2.06-.94 2.06-2.06.94z\"/><path d=\"M17.41 7.96l-1.37-1.37c-.4-.4-.92-.59-1.43-.59-.52 0-1.04.2-1.43.59L10.3 9.45l-7.72 7.72c-.78.78-.78 2.05 0 2.83L4 21.41c.39.39.9.59 1.41.59.51 0 1.02-.2 1.41-.59l7.78-7.78 2.81-2.81c.8-.78.8-2.07 0-2.86zM5.41 20L4 18.59l7.72-7.72 1.47 1.35L5.41 20z\"/>\n",
              "  </svg>\n",
              "      </button>\n",
              "      \n",
              "  <style>\n",
              "    .colab-df-container {\n",
              "      display:flex;\n",
              "      flex-wrap:wrap;\n",
              "      gap: 12px;\n",
              "    }\n",
              "\n",
              "    .colab-df-convert {\n",
              "      background-color: #E8F0FE;\n",
              "      border: none;\n",
              "      border-radius: 50%;\n",
              "      cursor: pointer;\n",
              "      display: none;\n",
              "      fill: #1967D2;\n",
              "      height: 32px;\n",
              "      padding: 0 0 0 0;\n",
              "      width: 32px;\n",
              "    }\n",
              "\n",
              "    .colab-df-convert:hover {\n",
              "      background-color: #E2EBFA;\n",
              "      box-shadow: 0px 1px 2px rgba(60, 64, 67, 0.3), 0px 1px 3px 1px rgba(60, 64, 67, 0.15);\n",
              "      fill: #174EA6;\n",
              "    }\n",
              "\n",
              "    [theme=dark] .colab-df-convert {\n",
              "      background-color: #3B4455;\n",
              "      fill: #D2E3FC;\n",
              "    }\n",
              "\n",
              "    [theme=dark] .colab-df-convert:hover {\n",
              "      background-color: #434B5C;\n",
              "      box-shadow: 0px 1px 3px 1px rgba(0, 0, 0, 0.15);\n",
              "      filter: drop-shadow(0px 1px 2px rgba(0, 0, 0, 0.3));\n",
              "      fill: #FFFFFF;\n",
              "    }\n",
              "  </style>\n",
              "\n",
              "      <script>\n",
              "        const buttonEl =\n",
              "          document.querySelector('#df-79e1c89f-9869-4018-a2e9-01dfa3a5d1ab button.colab-df-convert');\n",
              "        buttonEl.style.display =\n",
              "          google.colab.kernel.accessAllowed ? 'block' : 'none';\n",
              "\n",
              "        async function convertToInteractive(key) {\n",
              "          const element = document.querySelector('#df-79e1c89f-9869-4018-a2e9-01dfa3a5d1ab');\n",
              "          const dataTable =\n",
              "            await google.colab.kernel.invokeFunction('convertToInteractive',\n",
              "                                                     [key], {});\n",
              "          if (!dataTable) return;\n",
              "\n",
              "          const docLinkHtml = 'Like what you see? Visit the ' +\n",
              "            '<a target=\"_blank\" href=https://colab.research.google.com/notebooks/data_table.ipynb>data table notebook</a>'\n",
              "            + ' to learn more about interactive tables.';\n",
              "          element.innerHTML = '';\n",
              "          dataTable['output_type'] = 'display_data';\n",
              "          await google.colab.output.renderOutput(dataTable, element);\n",
              "          const docLink = document.createElement('div');\n",
              "          docLink.innerHTML = docLinkHtml;\n",
              "          element.appendChild(docLink);\n",
              "        }\n",
              "      </script>\n",
              "    </div>\n",
              "  </div>\n",
              "  "
            ],
            "text/plain": [
              "     PassengerId  Survived  Pclass                              Name     Sex  \\\n",
              "302          303         0       3   Johnson, Mr. William Cahoone Jr    male   \n",
              "663          664         0       3                  Coleff, Mr. Peju    male   \n",
              "195          196         1       1              Lurette, Miss. Elise  female   \n",
              "399          400         1       2  Trout, Mrs. William H (Jessie L)  female   \n",
              "724          725         1       1     Chambers, Mr. Norman Campbell    male   \n",
              "\n",
              "      Age  SibSp  Parch    Ticket      Fare Cabin Embarked  \n",
              "302  19.0      0      0      LINE    0.0000   NaN        S  \n",
              "663  36.0      0      0    349210    7.4958   NaN        S  \n",
              "195  58.0      0      0  PC 17569  146.5208   B80        C  \n",
              "399  28.0      0      0    240929   12.6500   NaN        S  \n",
              "724  27.0      1      0    113806   53.1000    E8        S  "
            ]
          },
          "execution_count": 73,
          "metadata": {},
          "output_type": "execute_result"
        }
      ],
      "source": [
        "train_data.sample(5)"
      ]
    },
    {
      "cell_type": "code",
      "execution_count": 74,
      "id": "fc9ZNjefwuga",
      "metadata": {
        "colab": {
          "base_uri": "https://localhost:8080/"
        },
        "id": "fc9ZNjefwuga",
        "outputId": "23f9205d-4200-4a3b-f75f-96e6a4fdb319"
      },
      "outputs": [
        {
          "data": {
            "text/plain": [
              "891"
            ]
          },
          "execution_count": 74,
          "metadata": {},
          "output_type": "execute_result"
        }
      ],
      "source": [
        "train_data['PassengerId'].nunique()"
      ]
    },
    {
      "cell_type": "code",
      "execution_count": 75,
      "id": "Fnizl-Qiw3gL",
      "metadata": {
        "colab": {
          "base_uri": "https://localhost:8080/"
        },
        "id": "Fnizl-Qiw3gL",
        "outputId": "a35b7c33-efb5-4c23-dfd1-52f9aae08d9f"
      },
      "outputs": [
        {
          "data": {
            "text/plain": [
              "681"
            ]
          },
          "execution_count": 75,
          "metadata": {},
          "output_type": "execute_result"
        }
      ],
      "source": [
        "train_data['Ticket'].nunique()"
      ]
    },
    {
      "cell_type": "code",
      "execution_count": 76,
      "id": "mRWP83-gw-ok",
      "metadata": {
        "colab": {
          "base_uri": "https://localhost:8080/"
        },
        "id": "mRWP83-gw-ok",
        "outputId": "6e443421-9f26-4723-c9da-822be4205d8f"
      },
      "outputs": [
        {
          "data": {
            "text/plain": [
              "891"
            ]
          },
          "execution_count": 76,
          "metadata": {},
          "output_type": "execute_result"
        }
      ],
      "source": [
        "train_data['Name'].nunique()"
      ]
    },
    {
      "cell_type": "code",
      "execution_count": 77,
      "id": "OFExiNcjw-d6",
      "metadata": {
        "colab": {
          "base_uri": "https://localhost:8080/"
        },
        "id": "OFExiNcjw-d6",
        "outputId": "4f5aa13f-4419-4b16-93fb-859d1a4d68fc"
      },
      "outputs": [
        {
          "data": {
            "text/plain": [
              "147"
            ]
          },
          "execution_count": 77,
          "metadata": {},
          "output_type": "execute_result"
        }
      ],
      "source": [
        "train_data['Cabin'].nunique()"
      ]
    },
    {
      "cell_type": "code",
      "execution_count": 78,
      "id": "bJR4w5kFxV6n",
      "metadata": {
        "colab": {
          "base_uri": "https://localhost:8080/"
        },
        "id": "bJR4w5kFxV6n",
        "outputId": "b8b9ac0c-8556-4fbd-f57e-de172624164c"
      },
      "outputs": [
        {
          "data": {
            "text/plain": [
              "7"
            ]
          },
          "execution_count": 78,
          "metadata": {},
          "output_type": "execute_result"
        }
      ],
      "source": [
        "train_data['Parch'].nunique()"
      ]
    },
    {
      "cell_type": "code",
      "execution_count": null,
      "id": "L-rbg2HNxany",
      "metadata": {
        "id": "L-rbg2HNxany"
      },
      "outputs": [],
      "source": []
    },
    {
      "cell_type": "code",
      "execution_count": null,
      "id": "wD1NHA-Axabd",
      "metadata": {
        "id": "wD1NHA-Axabd"
      },
      "outputs": [],
      "source": []
    },
    {
      "cell_type": "code",
      "execution_count": 20,
      "id": "BvQl1QHJ0ydy",
      "metadata": {
        "colab": {
          "base_uri": "https://localhost:8080/",
          "height": 364
        },
        "id": "BvQl1QHJ0ydy",
        "outputId": "6342f993-dc3d-4ff5-83a9-71b531af8f9c"
      },
      "outputs": [
        {
          "data": {
            "text/html": [
              "\n",
              "  <div id=\"df-a3f7cb89-4dfb-4efa-a54e-36bab9df6ea1\">\n",
              "    <div class=\"colab-df-container\">\n",
              "      <div>\n",
              "<style scoped>\n",
              "    .dataframe tbody tr th:only-of-type {\n",
              "        vertical-align: middle;\n",
              "    }\n",
              "\n",
              "    .dataframe tbody tr th {\n",
              "        vertical-align: top;\n",
              "    }\n",
              "\n",
              "    .dataframe thead th {\n",
              "        text-align: right;\n",
              "    }\n",
              "</style>\n",
              "<table border=\"1\" class=\"dataframe\">\n",
              "  <thead>\n",
              "    <tr style=\"text-align: right;\">\n",
              "      <th></th>\n",
              "      <th>PassengerId</th>\n",
              "      <th>Survived</th>\n",
              "      <th>Pclass</th>\n",
              "      <th>Age</th>\n",
              "      <th>SibSp</th>\n",
              "      <th>Parch</th>\n",
              "      <th>Fare</th>\n",
              "    </tr>\n",
              "  </thead>\n",
              "  <tbody>\n",
              "    <tr>\n",
              "      <th>count</th>\n",
              "      <td>891.000000</td>\n",
              "      <td>891.000000</td>\n",
              "      <td>891.000000</td>\n",
              "      <td>714.000000</td>\n",
              "      <td>891.000000</td>\n",
              "      <td>891.000000</td>\n",
              "      <td>891.000000</td>\n",
              "    </tr>\n",
              "    <tr>\n",
              "      <th>mean</th>\n",
              "      <td>446.000000</td>\n",
              "      <td>0.383838</td>\n",
              "      <td>2.308642</td>\n",
              "      <td>29.699118</td>\n",
              "      <td>0.523008</td>\n",
              "      <td>0.381594</td>\n",
              "      <td>32.204208</td>\n",
              "    </tr>\n",
              "    <tr>\n",
              "      <th>std</th>\n",
              "      <td>257.353842</td>\n",
              "      <td>0.486592</td>\n",
              "      <td>0.836071</td>\n",
              "      <td>14.526497</td>\n",
              "      <td>1.102743</td>\n",
              "      <td>0.806057</td>\n",
              "      <td>49.693429</td>\n",
              "    </tr>\n",
              "    <tr>\n",
              "      <th>min</th>\n",
              "      <td>1.000000</td>\n",
              "      <td>0.000000</td>\n",
              "      <td>1.000000</td>\n",
              "      <td>0.420000</td>\n",
              "      <td>0.000000</td>\n",
              "      <td>0.000000</td>\n",
              "      <td>0.000000</td>\n",
              "    </tr>\n",
              "    <tr>\n",
              "      <th>25%</th>\n",
              "      <td>223.500000</td>\n",
              "      <td>0.000000</td>\n",
              "      <td>2.000000</td>\n",
              "      <td>20.125000</td>\n",
              "      <td>0.000000</td>\n",
              "      <td>0.000000</td>\n",
              "      <td>7.910400</td>\n",
              "    </tr>\n",
              "    <tr>\n",
              "      <th>50%</th>\n",
              "      <td>446.000000</td>\n",
              "      <td>0.000000</td>\n",
              "      <td>3.000000</td>\n",
              "      <td>28.000000</td>\n",
              "      <td>0.000000</td>\n",
              "      <td>0.000000</td>\n",
              "      <td>14.454200</td>\n",
              "    </tr>\n",
              "    <tr>\n",
              "      <th>75%</th>\n",
              "      <td>668.500000</td>\n",
              "      <td>1.000000</td>\n",
              "      <td>3.000000</td>\n",
              "      <td>38.000000</td>\n",
              "      <td>1.000000</td>\n",
              "      <td>0.000000</td>\n",
              "      <td>31.000000</td>\n",
              "    </tr>\n",
              "    <tr>\n",
              "      <th>max</th>\n",
              "      <td>891.000000</td>\n",
              "      <td>1.000000</td>\n",
              "      <td>3.000000</td>\n",
              "      <td>80.000000</td>\n",
              "      <td>8.000000</td>\n",
              "      <td>6.000000</td>\n",
              "      <td>512.329200</td>\n",
              "    </tr>\n",
              "  </tbody>\n",
              "</table>\n",
              "</div>\n",
              "      <button class=\"colab-df-convert\" onclick=\"convertToInteractive('df-a3f7cb89-4dfb-4efa-a54e-36bab9df6ea1')\"\n",
              "              title=\"Convert this dataframe to an interactive table.\"\n",
              "              style=\"display:none;\">\n",
              "        \n",
              "  <svg xmlns=\"http://www.w3.org/2000/svg\" height=\"24px\"viewBox=\"0 0 24 24\"\n",
              "       width=\"24px\">\n",
              "    <path d=\"M0 0h24v24H0V0z\" fill=\"none\"/>\n",
              "    <path d=\"M18.56 5.44l.94 2.06.94-2.06 2.06-.94-2.06-.94-.94-2.06-.94 2.06-2.06.94zm-11 1L8.5 8.5l.94-2.06 2.06-.94-2.06-.94L8.5 2.5l-.94 2.06-2.06.94zm10 10l.94 2.06.94-2.06 2.06-.94-2.06-.94-.94-2.06-.94 2.06-2.06.94z\"/><path d=\"M17.41 7.96l-1.37-1.37c-.4-.4-.92-.59-1.43-.59-.52 0-1.04.2-1.43.59L10.3 9.45l-7.72 7.72c-.78.78-.78 2.05 0 2.83L4 21.41c.39.39.9.59 1.41.59.51 0 1.02-.2 1.41-.59l7.78-7.78 2.81-2.81c.8-.78.8-2.07 0-2.86zM5.41 20L4 18.59l7.72-7.72 1.47 1.35L5.41 20z\"/>\n",
              "  </svg>\n",
              "      </button>\n",
              "      \n",
              "  <style>\n",
              "    .colab-df-container {\n",
              "      display:flex;\n",
              "      flex-wrap:wrap;\n",
              "      gap: 12px;\n",
              "    }\n",
              "\n",
              "    .colab-df-convert {\n",
              "      background-color: #E8F0FE;\n",
              "      border: none;\n",
              "      border-radius: 50%;\n",
              "      cursor: pointer;\n",
              "      display: none;\n",
              "      fill: #1967D2;\n",
              "      height: 32px;\n",
              "      padding: 0 0 0 0;\n",
              "      width: 32px;\n",
              "    }\n",
              "\n",
              "    .colab-df-convert:hover {\n",
              "      background-color: #E2EBFA;\n",
              "      box-shadow: 0px 1px 2px rgba(60, 64, 67, 0.3), 0px 1px 3px 1px rgba(60, 64, 67, 0.15);\n",
              "      fill: #174EA6;\n",
              "    }\n",
              "\n",
              "    [theme=dark] .colab-df-convert {\n",
              "      background-color: #3B4455;\n",
              "      fill: #D2E3FC;\n",
              "    }\n",
              "\n",
              "    [theme=dark] .colab-df-convert:hover {\n",
              "      background-color: #434B5C;\n",
              "      box-shadow: 0px 1px 3px 1px rgba(0, 0, 0, 0.15);\n",
              "      filter: drop-shadow(0px 1px 2px rgba(0, 0, 0, 0.3));\n",
              "      fill: #FFFFFF;\n",
              "    }\n",
              "  </style>\n",
              "\n",
              "      <script>\n",
              "        const buttonEl =\n",
              "          document.querySelector('#df-a3f7cb89-4dfb-4efa-a54e-36bab9df6ea1 button.colab-df-convert');\n",
              "        buttonEl.style.display =\n",
              "          google.colab.kernel.accessAllowed ? 'block' : 'none';\n",
              "\n",
              "        async function convertToInteractive(key) {\n",
              "          const element = document.querySelector('#df-a3f7cb89-4dfb-4efa-a54e-36bab9df6ea1');\n",
              "          const dataTable =\n",
              "            await google.colab.kernel.invokeFunction('convertToInteractive',\n",
              "                                                     [key], {});\n",
              "          if (!dataTable) return;\n",
              "\n",
              "          const docLinkHtml = 'Like what you see? Visit the ' +\n",
              "            '<a target=\"_blank\" href=https://colab.research.google.com/notebooks/data_table.ipynb>data table notebook</a>'\n",
              "            + ' to learn more about interactive tables.';\n",
              "          element.innerHTML = '';\n",
              "          dataTable['output_type'] = 'display_data';\n",
              "          await google.colab.output.renderOutput(dataTable, element);\n",
              "          const docLink = document.createElement('div');\n",
              "          docLink.innerHTML = docLinkHtml;\n",
              "          element.appendChild(docLink);\n",
              "        }\n",
              "      </script>\n",
              "    </div>\n",
              "  </div>\n",
              "  "
            ],
            "text/plain": [
              "       PassengerId    Survived      Pclass         Age       SibSp  \\\n",
              "count   891.000000  891.000000  891.000000  714.000000  891.000000   \n",
              "mean    446.000000    0.383838    2.308642   29.699118    0.523008   \n",
              "std     257.353842    0.486592    0.836071   14.526497    1.102743   \n",
              "min       1.000000    0.000000    1.000000    0.420000    0.000000   \n",
              "25%     223.500000    0.000000    2.000000   20.125000    0.000000   \n",
              "50%     446.000000    0.000000    3.000000   28.000000    0.000000   \n",
              "75%     668.500000    1.000000    3.000000   38.000000    1.000000   \n",
              "max     891.000000    1.000000    3.000000   80.000000    8.000000   \n",
              "\n",
              "            Parch        Fare  \n",
              "count  891.000000  891.000000  \n",
              "mean     0.381594   32.204208  \n",
              "std      0.806057   49.693429  \n",
              "min      0.000000    0.000000  \n",
              "25%      0.000000    7.910400  \n",
              "50%      0.000000   14.454200  \n",
              "75%      0.000000   31.000000  \n",
              "max      6.000000  512.329200  "
            ]
          },
          "execution_count": 20,
          "metadata": {},
          "output_type": "execute_result"
        }
      ],
      "source": [
        "train_data.describe()"
      ]
    },
    {
      "cell_type": "code",
      "execution_count": null,
      "id": "VUC9j4u6uPg5",
      "metadata": {
        "id": "VUC9j4u6uPg5"
      },
      "outputs": [],
      "source": []
    },
    {
      "cell_type": "code",
      "execution_count": null,
      "id": "KR-KQLhZuTJZ",
      "metadata": {
        "id": "KR-KQLhZuTJZ"
      },
      "outputs": [],
      "source": []
    },
    {
      "cell_type": "code",
      "execution_count": 21,
      "id": "mHJMdTfKlemJ",
      "metadata": {
        "colab": {
          "base_uri": "https://localhost:8080/"
        },
        "id": "mHJMdTfKlemJ",
        "outputId": "7be05c76-8e61-4923-cf65-0204ecf6903a"
      },
      "outputs": [
        {
          "data": {
            "text/plain": [
              "male      577\n",
              "female    314\n",
              "Name: Sex, dtype: int64"
            ]
          },
          "execution_count": 21,
          "metadata": {},
          "output_type": "execute_result"
        }
      ],
      "source": [
        "train_data['Sex'].value_counts()"
      ]
    },
    {
      "cell_type": "code",
      "execution_count": 32,
      "id": "hMpoUS5tlpmi",
      "metadata": {
        "id": "hMpoUS5tlpmi"
      },
      "outputs": [],
      "source": [
        "ms = train_data[(train_data['Sex']=='male') & (train_data['Survived']==1)]\n",
        "mn = train_data[(train_data['Sex']=='male') & (train_data['Survived']==0)]\n",
        "\n",
        "mn = len(mn)"
      ]
    },
    {
      "cell_type": "code",
      "execution_count": 39,
      "id": "7VBJKTjsnpeW",
      "metadata": {
        "colab": {
          "base_uri": "https://localhost:8080/"
        },
        "id": "7VBJKTjsnpeW",
        "outputId": "46f5c7af-e10d-4c9b-a25a-fe0a3f2cda7f"
      },
      "outputs": [
        {
          "data": {
            "text/plain": [
              "468"
            ]
          },
          "execution_count": 39,
          "metadata": {},
          "output_type": "execute_result"
        }
      ],
      "source": [
        "mn"
      ]
    },
    {
      "cell_type": "code",
      "execution_count": 40,
      "id": "ppS-XyiioZ7r",
      "metadata": {
        "colab": {
          "base_uri": "https://localhost:8080/"
        },
        "id": "ppS-XyiioZ7r",
        "outputId": "cb7a583e-be13-4e37-d47b-6ea85a832f19"
      },
      "outputs": [
        {
          "data": {
            "text/plain": [
              "109"
            ]
          },
          "execution_count": 40,
          "metadata": {},
          "output_type": "execute_result"
        }
      ],
      "source": [
        "ms"
      ]
    },
    {
      "cell_type": "code",
      "execution_count": 33,
      "id": "yO7QOJapnkEk",
      "metadata": {
        "id": "yO7QOJapnkEk"
      },
      "outputs": [],
      "source": [
        "ms = len(ms)"
      ]
    },
    {
      "cell_type": "code",
      "execution_count": 27,
      "id": "tDJ7CIU_lpfl",
      "metadata": {
        "colab": {
          "base_uri": "https://localhost:8080/"
        },
        "id": "tDJ7CIU_lpfl",
        "outputId": "6ab5cbc3-445e-44c2-df70-80cf365d4d05"
      },
      "outputs": [
        {
          "data": {
            "text/plain": [
              "233"
            ]
          },
          "execution_count": 27,
          "metadata": {},
          "output_type": "execute_result"
        }
      ],
      "source": [
        "fs = train_data[(train_data['Sex']=='female') & (train_data['Survived']==1)]\n",
        "fn = train_data[(train_data['Sex']=='female') & (train_data['Survived']==0)]\n",
        "\n",
        "fn = len(fn)\n",
        "fs = len(fs)"
      ]
    },
    {
      "cell_type": "code",
      "execution_count": 41,
      "id": "-OjtF7pxobHy",
      "metadata": {
        "colab": {
          "base_uri": "https://localhost:8080/"
        },
        "id": "-OjtF7pxobHy",
        "outputId": "87a1b0d7-7fde-45b8-b510-e12970d81002"
      },
      "outputs": [
        {
          "data": {
            "text/plain": [
              "233"
            ]
          },
          "execution_count": 41,
          "metadata": {},
          "output_type": "execute_result"
        }
      ],
      "source": [
        "fs"
      ]
    },
    {
      "cell_type": "code",
      "execution_count": 42,
      "id": "W1EFS5MbodK9",
      "metadata": {
        "colab": {
          "base_uri": "https://localhost:8080/"
        },
        "id": "W1EFS5MbodK9",
        "outputId": "5ebc5bc0-a137-4037-c36b-613b788c9170"
      },
      "outputs": [
        {
          "data": {
            "text/plain": [
              "81"
            ]
          },
          "execution_count": 42,
          "metadata": {},
          "output_type": "execute_result"
        }
      ],
      "source": [
        "fn"
      ]
    },
    {
      "cell_type": "code",
      "execution_count": 37,
      "id": "05-EI3hPnyiu",
      "metadata": {
        "id": "05-EI3hPnyiu"
      },
      "outputs": [],
      "source": [
        "\n",
        "fn = len(fn)"
      ]
    },
    {
      "cell_type": "code",
      "execution_count": 36,
      "id": "INgpHww8nyV7",
      "metadata": {
        "id": "INgpHww8nyV7"
      },
      "outputs": [],
      "source": [
        "fs = len(fs)"
      ]
    },
    {
      "cell_type": "code",
      "execution_count": 44,
      "id": "sY9q4YralpSr",
      "metadata": {
        "colab": {
          "base_uri": "https://localhost:8080/"
        },
        "id": "sY9q4YralpSr",
        "outputId": "f77a9356-3cc4-4544-c906-2c87d3e01ad8"
      },
      "outputs": [
        {
          "name": "stdout",
          "output_type": "stream",
          "text": [
            "0.18890814558058924\n"
          ]
        }
      ],
      "source": [
        "# probabilidad de supervivencia de los hombres\n",
        "\n",
        "print(ms/(mn+ms))"
      ]
    },
    {
      "cell_type": "code",
      "execution_count": 45,
      "id": "2BAbs5HKn3lI",
      "metadata": {
        "colab": {
          "base_uri": "https://localhost:8080/"
        },
        "id": "2BAbs5HKn3lI",
        "outputId": "46527cfc-5296-4bda-d178-33e6e578886d"
      },
      "outputs": [
        {
          "name": "stdout",
          "output_type": "stream",
          "text": [
            "0.7420382165605095\n"
          ]
        }
      ],
      "source": [
        "print(fs/(fn+fs))"
      ]
    },
    {
      "cell_type": "code",
      "execution_count": 46,
      "id": "9y8dEbQCoGGE",
      "metadata": {
        "colab": {
          "base_uri": "https://localhost:8080/"
        },
        "id": "9y8dEbQCoGGE",
        "outputId": "4b36d067-3c4b-4d5c-d402-37365debbcc3"
      },
      "outputs": [
        {
          "name": "stdout",
          "output_type": "stream",
          "text": [
            "mn:468, ms:109,fs:233,fn:81\n"
          ]
        }
      ],
      "source": [
        "print(f\"mn:{mn}, ms:{ms},fs:{fs},fn:{fn}\")"
      ]
    },
    {
      "cell_type": "code",
      "execution_count": 47,
      "id": "ozXU8c5vosVx",
      "metadata": {
        "colab": {
          "base_uri": "https://localhost:8080/"
        },
        "id": "ozXU8c5vosVx",
        "outputId": "d560f664-30c4-44c1-bdfd-805a05cb6f3d"
      },
      "outputs": [
        {
          "data": {
            "text/plain": [
              "12.3506625891947"
            ]
          },
          "execution_count": 47,
          "metadata": {},
          "output_type": "execute_result"
        }
      ],
      "source": [
        "(mn/ms)/(fn/fs)"
      ]
    },
    {
      "cell_type": "code",
      "execution_count": null,
      "id": "KzSmFfTrpA85",
      "metadata": {
        "id": "KzSmFfTrpA85"
      },
      "outputs": [],
      "source": [
        "# lo que quiere decir el codigo de arriba es que las mujeres tenian mas chance de sobrevivir\n",
        "# que los hombres"
      ]
    },
    {
      "cell_type": "code",
      "execution_count": 62,
      "id": "i093FM0josJ3",
      "metadata": {
        "colab": {
          "base_uri": "https://localhost:8080/",
          "height": 281
        },
        "id": "i093FM0josJ3",
        "outputId": "54704dd7-cbee-4eba-ccad-33bdd806cb15"
      },
      "outputs": [
        {
          "data": {
            "image/png": "[encoded data removed]",
            "text/plain": [
              "<Figure size 432x288 with 9 Axes>"
            ]
          },
          "metadata": {
            "needs_background": "light"
          },
          "output_type": "display_data"
        }
      ],
      "source": [
        "train_data.hist()\n",
        "plt.show()"
      ]
    },
    {
      "cell_type": "code",
      "execution_count": null,
      "id": "Dlls4lKwpbnp",
      "metadata": {
        "id": "Dlls4lKwpbnp"
      },
      "outputs": [],
      "source": [
        "# Dv = VARIABLE A PRONOSTICAR O VARIABLE DEPENDIENTE\n",
        "# IV = son las variables explicativas o variables independientes que sirven para explicar a DV\n"
      ]
    },
    {
      "cell_type": "code",
      "execution_count": null,
      "id": "0i9tDgdtscb-",
      "metadata": {
        "id": "0i9tDgdtscb-"
      },
      "outputs": [],
      "source": []
    },
    {
      "cell_type": "code",
      "execution_count": null,
      "id": "uPz0ng_apbd4",
      "metadata": {
        "id": "uPz0ng_apbd4"
      },
      "outputs": [],
      "source": []
    },
    {
      "cell_type": "markdown",
      "id": "Pl0W9EXXoT90",
      "metadata": {
        "id": "Pl0W9EXXoT90"
      },
      "source": []
    },
    {
      "cell_type": "code",
      "execution_count": 12,
      "id": "92b6d852",
      "metadata": {
        "colab": {
          "base_uri": "https://localhost:8080/"
        },
        "id": "92b6d852",
        "outputId": "eff94481-8aa2-45e4-995f-79106282eac8"
      },
      "outputs": [
        {
          "name": "stdout",
          "output_type": "stream",
          "text": [
            "<class 'pandas.core.frame.DataFrame'>\n",
            "RangeIndex: 891 entries, 0 to 890\n",
            "Data columns (total 12 columns):\n",
            " #   Column       Non-Null Count  Dtype  \n",
            "---  ------       --------------  -----  \n",
            " 0   PassengerId  891 non-null    int64  \n",
            " 1   Survived     891 non-null    int64  \n",
            " 2   Pclass       891 non-null    int64  \n",
            " 3   Name         891 non-null    object \n",
            " 4   Sex          891 non-null    object \n",
            " 5   Age          714 non-null    float64\n",
            " 6   SibSp        891 non-null    int64  \n",
            " 7   Parch        891 non-null    int64  \n",
            " 8   Ticket       891 non-null    object \n",
            " 9   Fare         891 non-null    float64\n",
            " 10  Cabin        204 non-null    object \n",
            " 11  Embarked     889 non-null    object \n",
            "dtypes: float64(2), int64(5), object(5)\n",
            "memory usage: 83.7+ KB\n"
          ]
        }
      ],
      "source": [
        "#Let's look at some information aboyt data types and null values.\n",
        "train_data.info()"
      ]
    },
    {
      "cell_type": "markdown",
      "id": "b31299bb",
      "metadata": {
        "id": "b31299bb"
      },
      "source": [
        "Observations: \n",
        "\n",
        "-We can see that our train_data has 891 rows and 12 columns.\n",
        "\n",
        "-Our data has 7 numerical features and 5 categorical features.\n",
        "\n",
        "-Feature 'Age' has 714 non-null values from a total of 891 rows, which means that our 'Age' column has 177 null values.\n",
        "The same happens with our 'Cabin' feature having 687 null values, and 'Embarked' feature with 2 null values.\n",
        "\n",
        "Now, we will do the same analysis for our test_data:"
      ]
    },
    {
      "cell_type": "code",
      "execution_count": 13,
      "id": "2e3405c2",
      "metadata": {
        "colab": {
          "base_uri": "https://localhost:8080/"
        },
        "id": "2e3405c2",
        "outputId": "4298c279-3ed9-45f6-d3c7-ccd359c24014"
      },
      "outputs": [
        {
          "data": {
            "text/plain": [
              "(418, 11)"
            ]
          },
          "execution_count": 13,
          "metadata": {},
          "output_type": "execute_result"
        }
      ],
      "source": [
        "#Let's see how many rows and columns does my test_data has.\n",
        "test_data.shape"
      ]
    },
    {
      "cell_type": "code",
      "execution_count": 14,
      "id": "da0fbd3c",
      "metadata": {
        "colab": {
          "base_uri": "https://localhost:8080/",
          "height": 364
        },
        "id": "da0fbd3c",
        "outputId": "cd124340-6abc-4472-addb-f6928299517c"
      },
      "outputs": [
        {
          "data": {
            "text/html": [
              "\n",
              "  <div id=\"df-fb07098b-46c9-465f-8470-f72997793adf\">\n",
              "    <div class=\"colab-df-container\">\n",
              "      <div>\n",
              "<style scoped>\n",
              "    .dataframe tbody tr th:only-of-type {\n",
              "        vertical-align: middle;\n",
              "    }\n",
              "\n",
              "    .dataframe tbody tr th {\n",
              "        vertical-align: top;\n",
              "    }\n",
              "\n",
              "    .dataframe thead th {\n",
              "        text-align: right;\n",
              "    }\n",
              "</style>\n",
              "<table border=\"1\" class=\"dataframe\">\n",
              "  <thead>\n",
              "    <tr style=\"text-align: right;\">\n",
              "      <th></th>\n",
              "      <th>PassengerId</th>\n",
              "      <th>Pclass</th>\n",
              "      <th>Name</th>\n",
              "      <th>Sex</th>\n",
              "      <th>Age</th>\n",
              "      <th>SibSp</th>\n",
              "      <th>Parch</th>\n",
              "      <th>Ticket</th>\n",
              "      <th>Fare</th>\n",
              "      <th>Cabin</th>\n",
              "      <th>Embarked</th>\n",
              "    </tr>\n",
              "  </thead>\n",
              "  <tbody>\n",
              "    <tr>\n",
              "      <th>0</th>\n",
              "      <td>892</td>\n",
              "      <td>3</td>\n",
              "      <td>Kelly, Mr. James</td>\n",
              "      <td>male</td>\n",
              "      <td>34.5</td>\n",
              "      <td>0</td>\n",
              "      <td>0</td>\n",
              "      <td>330911</td>\n",
              "      <td>7.8292</td>\n",
              "      <td>NaN</td>\n",
              "      <td>Q</td>\n",
              "    </tr>\n",
              "    <tr>\n",
              "      <th>1</th>\n",
              "      <td>893</td>\n",
              "      <td>3</td>\n",
              "      <td>Wilkes, Mrs. James (Ellen Needs)</td>\n",
              "      <td>female</td>\n",
              "      <td>47.0</td>\n",
              "      <td>1</td>\n",
              "      <td>0</td>\n",
              "      <td>363272</td>\n",
              "      <td>7.0000</td>\n",
              "      <td>NaN</td>\n",
              "      <td>S</td>\n",
              "    </tr>\n",
              "    <tr>\n",
              "      <th>2</th>\n",
              "      <td>894</td>\n",
              "      <td>2</td>\n",
              "      <td>Myles, Mr. Thomas Francis</td>\n",
              "      <td>male</td>\n",
              "      <td>62.0</td>\n",
              "      <td>0</td>\n",
              "      <td>0</td>\n",
              "      <td>240276</td>\n",
              "      <td>9.6875</td>\n",
              "      <td>NaN</td>\n",
              "      <td>Q</td>\n",
              "    </tr>\n",
              "  </tbody>\n",
              "</table>\n",
              "</div>\n",
              "      <button class=\"colab-df-convert\" onclick=\"convertToInteractive('df-fb07098b-46c9-465f-8470-f72997793adf')\"\n",
              "              title=\"Convert this dataframe to an interactive table.\"\n",
              "              style=\"display:none;\">\n",
              "        \n",
              "  <svg xmlns=\"http://www.w3.org/2000/svg\" height=\"24px\"viewBox=\"0 0 24 24\"\n",
              "       width=\"24px\">\n",
              "    <path d=\"M0 0h24v24H0V0z\" fill=\"none\"/>\n",
              "    <path d=\"M18.56 5.44l.94 2.06.94-2.06 2.06-.94-2.06-.94-.94-2.06-.94 2.06-2.06.94zm-11 1L8.5 8.5l.94-2.06 2.06-.94-2.06-.94L8.5 2.5l-.94 2.06-2.06.94zm10 10l.94 2.06.94-2.06 2.06-.94-2.06-.94-.94-2.06-.94 2.06-2.06.94z\"/><path d=\"M17.41 7.96l-1.37-1.37c-.4-.4-.92-.59-1.43-.59-.52 0-1.04.2-1.43.59L10.3 9.45l-7.72 7.72c-.78.78-.78 2.05 0 2.83L4 21.41c.39.39.9.59 1.41.59.51 0 1.02-.2 1.41-.59l7.78-7.78 2.81-2.81c.8-.78.8-2.07 0-2.86zM5.41 20L4 18.59l7.72-7.72 1.47 1.35L5.41 20z\"/>\n",
              "  </svg>\n",
              "      </button>\n",
              "      \n",
              "  <style>\n",
              "    .colab-df-container {\n",
              "      display:flex;\n",
              "      flex-wrap:wrap;\n",
              "      gap: 12px;\n",
              "    }\n",
              "\n",
              "    .colab-df-convert {\n",
              "      background-color: #E8F0FE;\n",
              "      border: none;\n",
              "      border-radius: 50%;\n",
              "      cursor: pointer;\n",
              "      display: none;\n",
              "      fill: #1967D2;\n",
              "      height: 32px;\n",
              "      padding: 0 0 0 0;\n",
              "      width: 32px;\n",
              "    }\n",
              "\n",
              "    .colab-df-convert:hover {\n",
              "      background-color: #E2EBFA;\n",
              "      box-shadow: 0px 1px 2px rgba(60, 64, 67, 0.3), 0px 1px 3px 1px rgba(60, 64, 67, 0.15);\n",
              "      fill: #174EA6;\n",
              "    }\n",
              "\n",
              "    [theme=dark] .colab-df-convert {\n",
              "      background-color: #3B4455;\n",
              "      fill: #D2E3FC;\n",
              "    }\n",
              "\n",
              "    [theme=dark] .colab-df-convert:hover {\n",
              "      background-color: #434B5C;\n",
              "      box-shadow: 0px 1px 3px 1px rgba(0, 0, 0, 0.15);\n",
              "      filter: drop-shadow(0px 1px 2px rgba(0, 0, 0, 0.3));\n",
              "      fill: #FFFFFF;\n",
              "    }\n",
              "  </style>\n",
              "\n",
              "      <script>\n",
              "        const buttonEl =\n",
              "          document.querySelector('#df-fb07098b-46c9-465f-8470-f72997793adf button.colab-df-convert');\n",
              "        buttonEl.style.display =\n",
              "          google.colab.kernel.accessAllowed ? 'block' : 'none';\n",
              "\n",
              "        async function convertToInteractive(key) {\n",
              "          const element = document.querySelector('#df-fb07098b-46c9-465f-8470-f72997793adf');\n",
              "          const dataTable =\n",
              "            await google.colab.kernel.invokeFunction('convertToInteractive',\n",
              "                                                     [key], {});\n",
              "          if (!dataTable) return;\n",
              "\n",
              "          const docLinkHtml = 'Like what you see? Visit the ' +\n",
              "            '<a target=\"_blank\" href=https://colab.research.google.com/notebooks/data_table.ipynb>data table notebook</a>'\n",
              "            + ' to learn more about interactive tables.';\n",
              "          element.innerHTML = '';\n",
              "          dataTable['output_type'] = 'display_data';\n",
              "          await google.colab.output.renderOutput(dataTable, element);\n",
              "          const docLink = document.createElement('div');\n",
              "          docLink.innerHTML = docLinkHtml;\n",
              "          element.appendChild(docLink);\n",
              "        }\n",
              "      </script>\n",
              "    </div>\n",
              "  </div>\n",
              "  "
            ],
            "text/plain": [
              "   PassengerId  Pclass                              Name     Sex   Age  SibSp  \\\n",
              "0          892       3                  Kelly, Mr. James    male  34.5      0   \n",
              "1          893       3  Wilkes, Mrs. James (Ellen Needs)  female  47.0      1   \n",
              "2          894       2         Myles, Mr. Thomas Francis    male  62.0      0   \n",
              "\n",
              "   Parch  Ticket    Fare Cabin Embarked  \n",
              "0      0  330911  7.8292   NaN        Q  \n",
              "1      0  363272  7.0000   NaN        S  \n",
              "2      0  240276  9.6875   NaN        Q  "
            ]
          },
          "execution_count": 14,
          "metadata": {},
          "output_type": "execute_result"
        }
      ],
      "source": [
        "#Let's look at the first 3 rows of our test_data\n",
        "test_data.head(3)"
      ]
    },
    {
      "cell_type": "code",
      "execution_count": 15,
      "id": "8b22f25b",
      "metadata": {
        "colab": {
          "base_uri": "https://localhost:8080/"
        },
        "id": "8b22f25b",
        "outputId": "42481bac-a936-426d-e8ce-2ea3aad9970d"
      },
      "outputs": [
        {
          "name": "stdout",
          "output_type": "stream",
          "text": [
            "<class 'pandas.core.frame.DataFrame'>\n",
            "RangeIndex: 418 entries, 0 to 417\n",
            "Data columns (total 11 columns):\n",
            " #   Column       Non-Null Count  Dtype  \n",
            "---  ------       --------------  -----  \n",
            " 0   PassengerId  418 non-null    int64  \n",
            " 1   Pclass       418 non-null    int64  \n",
            " 2   Name         418 non-null    object \n",
            " 3   Sex          418 non-null    object \n",
            " 4   Age          332 non-null    float64\n",
            " 5   SibSp        418 non-null    int64  \n",
            " 6   Parch        418 non-null    int64  \n",
            " 7   Ticket       418 non-null    object \n",
            " 8   Fare         417 non-null    float64\n",
            " 9   Cabin        91 non-null     object \n",
            " 10  Embarked     418 non-null    object \n",
            "dtypes: float64(2), int64(4), object(5)\n",
            "memory usage: 36.0+ KB\n"
          ]
        }
      ],
      "source": [
        "#Let's see the data types and which features have null values in our test_data\n",
        "test_data.info()"
      ]
    },
    {
      "cell_type": "markdown",
      "id": "762bd415",
      "metadata": {
        "id": "762bd415"
      },
      "source": [
        "Observations:\n",
        "\n",
        "-We can see that our test_data has 418 rows and 11 columns. There is one column less than our train_data because this new dataset is not labeled so we don't have the column that indicates whether the passenger died or survived.\n",
        "\n",
        "-Our test_data has the same data types as our train_data for each feature.\n",
        "\n",
        "-This time the 'Age' feature has 86 null values, and our 'Cabin' feature has 327 null values from the 418 total number of rows."
      ]
    },
    {
      "cell_type": "markdown",
      "id": "f95de7d3",
      "metadata": {
        "id": "f95de7d3"
      },
      "source": [
        "### Exploring relevant data columns\n",
        "\n",
        "Now we need to find some insights from the dataset to see if there is any kind of hidden pattern or relationship between columns.\n",
        "We will start with the 'Survived' column which seems to be our target variable as it is not given to us in the test dataset.\n",
        "\n",
        "**Target variable**"
      ]
    },
    {
      "cell_type": "code",
      "execution_count": 16,
      "id": "4613a802",
      "metadata": {
        "colab": {
          "base_uri": "https://localhost:8080/",
          "height": 295
        },
        "id": "4613a802",
        "outputId": "4bbe8787-1320-4d54-b98a-b929ad555e7b"
      },
      "outputs": [
        {
          "data": {
            "image/png": "[encoded data removed]",
            "text/plain": [
              "<Figure size 432x288 with 1 Axes>"
            ]
          },
          "metadata": {
            "needs_background": "light"
          },
          "output_type": "display_data"
        }
      ],
      "source": [
        "#Let's first visualize the distribution of our target variable.\n",
        "\n",
        "sns.countplot(x=train_data['Survived'])\n",
        "plt.title('Distribution of passenger survival status')\n",
        "plt.show()"
      ]
    },
    {
      "cell_type": "code",
      "execution_count": 17,
      "id": "df504f6a",
      "metadata": {
        "colab": {
          "base_uri": "https://localhost:8080/"
        },
        "id": "df504f6a",
        "outputId": "b0c08268-c2a5-4114-d22d-13523157f5a7"
      },
      "outputs": [
        {
          "data": {
            "text/plain": [
              "0    549\n",
              "1    342\n",
              "Name: Survived, dtype: int64"
            ]
          },
          "execution_count": 17,
          "metadata": {},
          "output_type": "execute_result"
        }
      ],
      "source": [
        "train_data['Survived'].value_counts()"
      ]
    },
    {
      "cell_type": "markdown",
      "id": "73ee0a01",
      "metadata": {
        "id": "73ee0a01"
      },
      "source": [
        "Observations: As our target variable is supposed to classify passengers in 1 or 0, whether they survive or not, we used a countplot to see if the data is balanced. We also used the method value_counts() to see exactly how many people survived(1) and how many did not survived(0) in our train_data. It is balanced and we know for a fact that the sinking ok Titanic resulted in the death of most of its passengers."
      ]
    },
    {
      "cell_type": "markdown",
      "id": "fc3bef23",
      "metadata": {
        "id": "fc3bef23"
      },
      "source": [
        "**Using histograms to visualize all features**"
      ]
    },
    {
      "cell_type": "code",
      "execution_count": null,
      "id": "2ea4bfd1",
      "metadata": {
        "colab": {
          "base_uri": "https://localhost:8080/",
          "height": 444
        },
        "id": "2ea4bfd1",
        "outputId": "1f1bcf75-ab7d-4110-ef9b-3cd5d996b1f8"
      },
      "outputs": [
        {
          "data": {
            "image/png": "[encoded data removed]",
            "text/plain": [
              "<Figure size 648x504 with 9 Axes>"
            ]
          },
          "metadata": {
            "needs_background": "light"
          },
          "output_type": "display_data"
        }
      ],
      "source": [
        "train_data.hist(bins=10,figsize=(9,7),grid=False);"
      ]
    },
    {
      "cell_type": "markdown",
      "id": "6248b801",
      "metadata": {
        "id": "6248b801"
      },
      "source": [
        "**Countplot for categorical variables**"
      ]
    },
    {
      "cell_type": "code",
      "execution_count": null,
      "id": "2d7bfba6",
      "metadata": {
        "id": "2d7bfba6"
      },
      "outputs": [],
      "source": [
        "#Let's check the categories in each of our object type features\n",
        "\n",
        "def countplot_features(feature):\n",
        "    plot=sns.countplot(x=feature,data=train_data)\n",
        "    plt.show()\n",
        "\n",
        "def countplot_targetvsfeature(feature,y):\n",
        "    fig = plt.figure(figsize=(15,10))\n",
        "    plot=sns.countplot(x=feature,data=train_data,hue=y)\n",
        "    plt.show()    "
      ]
    },
    {
      "cell_type": "code",
      "execution_count": null,
      "id": "18540988",
      "metadata": {
        "colab": {
          "base_uri": "https://localhost:8080/",
          "height": 281
        },
        "id": "18540988",
        "outputId": "41b60299-8a73-446d-9734-ad035678db4f"
      },
      "outputs": [
        {
          "data": {
            "image/png": "[encoded data removed]",
            "text/plain": [
              "<Figure size 432x288 with 1 Axes>"
            ]
          },
          "metadata": {
            "needs_background": "light"
          },
          "output_type": "display_data"
        }
      ],
      "source": [
        "countplot_features('Sex')"
      ]
    },
    {
      "cell_type": "code",
      "execution_count": null,
      "id": "8331148c",
      "metadata": {
        "colab": {
          "base_uri": "https://localhost:8080/",
          "height": 442
        },
        "id": "8331148c",
        "outputId": "95eab23b-c9ed-42a3-8674-d72584949b6f"
      },
      "outputs": [
        {
          "data": {
            "image/png": "[encoded data removed]",
            "text/plain": [
              "<Figure size 1080x720 with 1 Axes>"
            ]
          },
          "metadata": {
            "needs_background": "light"
          },
          "output_type": "display_data"
        }
      ],
      "source": [
        "countplot_targetvsfeature('Sex','Survived')\n"
      ]
    },
    {
      "cell_type": "markdown",
      "id": "d268d3c0",
      "metadata": {
        "id": "d268d3c0"
      },
      "source": [
        "Observations: \n",
        "\n",
        "Most of our data passengers were male, but from male, most of them did not survive. On the other side, even though there were less female passengers, most of them survived."
      ]
    },
    {
      "cell_type": "code",
      "execution_count": null,
      "id": "b86176e8",
      "metadata": {
        "colab": {
          "base_uri": "https://localhost:8080/",
          "height": 279
        },
        "id": "b86176e8",
        "outputId": "581c4bcb-0d6b-4592-f160-1ec792987568"
      },
      "outputs": [
        {
          "data": {
            "image/png": "[encoded data removed]",
            "text/plain": [
              "<Figure size 432x288 with 1 Axes>"
            ]
          },
          "metadata": {
            "needs_background": "light"
          },
          "output_type": "display_data"
        }
      ],
      "source": [
        "countplot_features('Embarked')"
      ]
    },
    {
      "cell_type": "code",
      "execution_count": null,
      "id": "5aaff1de",
      "metadata": {
        "colab": {
          "base_uri": "https://localhost:8080/",
          "height": 442
        },
        "id": "5aaff1de",
        "outputId": "cc555008-b525-4dbe-d976-28df579f2286"
      },
      "outputs": [
        {
          "data": {
            "image/png": "[encoded data removed]",
            "text/plain": [
              "<Figure size 1080x720 with 1 Axes>"
            ]
          },
          "metadata": {
            "needs_background": "light"
          },
          "output_type": "display_data"
        }
      ],
      "source": [
        "countplot_targetvsfeature('Embarked','Survived')"
      ]
    },
    {
      "cell_type": "markdown",
      "id": "8ffa8081",
      "metadata": {
        "id": "8ffa8081"
      },
      "source": [
        "Observations: \n",
        "\n",
        "Most of our Titanic passengers embarked by the Southampton station."
      ]
    },
    {
      "cell_type": "code",
      "execution_count": null,
      "id": "c061abf4",
      "metadata": {
        "colab": {
          "base_uri": "https://localhost:8080/",
          "height": 279
        },
        "id": "c061abf4",
        "outputId": "972d29e7-eb4b-4993-b119-96e0e436bbcf"
      },
      "outputs": [
        {
          "data": {
            "image/png": "[encoded data removed]",
            "text/plain": [
              "<Figure size 432x288 with 1 Axes>"
            ]
          },
          "metadata": {
            "needs_background": "light"
          },
          "output_type": "display_data"
        }
      ],
      "source": [
        "countplot_features('Pclass')"
      ]
    },
    {
      "cell_type": "code",
      "execution_count": null,
      "id": "991aa38b",
      "metadata": {
        "colab": {
          "base_uri": "https://localhost:8080/",
          "height": 442
        },
        "id": "991aa38b",
        "outputId": "febb9b04-1c70-4eb8-82da-96fefd3340d5"
      },
      "outputs": [
        {
          "data": {
            "image/png": "[encoded data removed]",
            "text/plain": [
              "<Figure size 1080x720 with 1 Axes>"
            ]
          },
          "metadata": {
            "needs_background": "light"
          },
          "output_type": "display_data"
        }
      ],
      "source": [
        "countplot_targetvsfeature('Pclass','Survived')"
      ]
    },
    {
      "cell_type": "markdown",
      "id": "757fbea6",
      "metadata": {
        "id": "757fbea6"
      },
      "source": [
        "Observations: Most of the passengers were travelling in the third class, but most of them did not survive. However, in the first class, most of the passengers survived."
      ]
    },
    {
      "cell_type": "markdown",
      "id": "eb8e9b07",
      "metadata": {
        "id": "eb8e9b07"
      },
      "source": [
        "**Distribution Plots for Continuous variables**"
      ]
    },
    {
      "cell_type": "code",
      "execution_count": null,
      "id": "64f1b8d9",
      "metadata": {
        "colab": {
          "base_uri": "https://localhost:8080/",
          "height": 351
        },
        "id": "64f1b8d9",
        "outputId": "71d4eb8f-5dd3-46ac-f6af-18a402fbc677"
      },
      "outputs": [
        {
          "name": "stderr",
          "output_type": "stream",
          "text": [
            "/usr/local/lib/python3.7/dist-packages/seaborn/distributions.py:2619: FutureWarning: `distplot` is a deprecated function and will be removed in a future version. Please adapt your code to use either `displot` (a figure-level function with similar flexibility) or `histplot` (an axes-level function for histograms).\n",
            "  warnings.warn(msg, FutureWarning)\n"
          ]
        },
        {
          "data": {
            "text/plain": [
              "<matplotlib.axes._subplots.AxesSubplot at 0x7fe89230b750>"
            ]
          },
          "execution_count": 24,
          "metadata": {},
          "output_type": "execute_result"
        },
        {
          "data": {
            "image/png": "[encoded data removed]",
            "text/plain": [
              "<Figure size 432x288 with 1 Axes>"
            ]
          },
          "metadata": {
            "needs_background": "light"
          },
          "output_type": "display_data"
        }
      ],
      "source": [
        "#Let's plot the Probability Density Function (PDF) of Age of 891 passengers traveling in the Titanic.\n",
        "\n",
        "sns.distplot(train_data['Age'])"
      ]
    },
    {
      "cell_type": "code",
      "execution_count": null,
      "id": "6c9bb608",
      "metadata": {
        "colab": {
          "base_uri": "https://localhost:8080/",
          "height": 296
        },
        "id": "6c9bb608",
        "outputId": "781f0fb6-86e6-40b2-f6d6-01ac8dce89ed"
      },
      "outputs": [
        {
          "data": {
            "text/plain": [
              "(0.0, 1.05)"
            ]
          },
          "execution_count": 25,
          "metadata": {},
          "output_type": "execute_result"
        },
        {
          "data": {
            "image/png": "[encoded data removed]",
            "text/plain": [
              "<Figure size 432x288 with 1 Axes>"
            ]
          },
          "metadata": {
            "needs_background": "light"
          },
          "output_type": "display_data"
        }
      ],
      "source": [
        "#View if there is a linear relation between continuous numerical variable Age & target variable Survived.\n",
        "\n",
        "sns.regplot(x = \"Age\", y = \"Survived\", data = train_data)\n",
        "plt.ylim(0,)"
      ]
    },
    {
      "cell_type": "markdown",
      "id": "ed4f01a3",
      "metadata": {
        "id": "ed4f01a3"
      },
      "source": [
        "Observations:\n",
        "\n",
        "There is clear negative linear relation between Age and our target variable. This makes sense considering that children was one of the groups who had preference in using the boats to survive (Survive = 1)."
      ]
    },
    {
      "cell_type": "code",
      "execution_count": null,
      "id": "e7763a58",
      "metadata": {
        "colab": {
          "base_uri": "https://localhost:8080/",
          "height": 351
        },
        "id": "e7763a58",
        "outputId": "c380a22e-00c2-4b72-867a-be47de79563f"
      },
      "outputs": [
        {
          "name": "stderr",
          "output_type": "stream",
          "text": [
            "/usr/local/lib/python3.7/dist-packages/seaborn/distributions.py:2619: FutureWarning: `distplot` is a deprecated function and will be removed in a future version. Please adapt your code to use either `displot` (a figure-level function with similar flexibility) or `histplot` (an axes-level function for histograms).\n",
            "  warnings.warn(msg, FutureWarning)\n"
          ]
        },
        {
          "data": {
            "text/plain": [
              "<matplotlib.axes._subplots.AxesSubplot at 0x7fe890223350>"
            ]
          },
          "execution_count": 26,
          "metadata": {},
          "output_type": "execute_result"
        },
        {
          "data": {
            "image/png": "[encoded data removed]",
            "text/plain": [
              "<Figure size 432x288 with 1 Axes>"
            ]
          },
          "metadata": {
            "needs_background": "light"
          },
          "output_type": "display_data"
        }
      ],
      "source": [
        "#Let's plot the Probability Density Function (PDF) of Fare paid by 891 passengers traveling in the Titanic.\n",
        "sns.distplot(train_data['Fare'])"
      ]
    },
    {
      "cell_type": "markdown",
      "id": "f1154dec",
      "metadata": {
        "id": "f1154dec"
      },
      "source": [
        "Observations: From the above plotted PDF of Fare we can see that a majority of points in distribution lie between 0 to 100"
      ]
    },
    {
      "cell_type": "code",
      "execution_count": null,
      "id": "3cbde72c",
      "metadata": {
        "colab": {
          "base_uri": "https://localhost:8080/",
          "height": 296
        },
        "id": "3cbde72c",
        "outputId": "9951b9bc-7aaa-4604-fe3c-7cc10a1f5814"
      },
      "outputs": [
        {
          "data": {
            "text/plain": [
              "(0.0, 2.1184283011489846)"
            ]
          },
          "execution_count": 27,
          "metadata": {},
          "output_type": "execute_result"
        },
        {
          "data": {
            "image/png": "[encoded data removed]",
            "text/plain": [
              "<Figure size 432x288 with 1 Axes>"
            ]
          },
          "metadata": {
            "needs_background": "light"
          },
          "output_type": "display_data"
        }
      ],
      "source": [
        "# View if there is a linear relation between continuous numerical variable Fare & target variable Survived.\n",
        "\n",
        "sns.regplot(x = \"Fare\", y = \"Survived\", data = train_data)\n",
        "plt.ylim(0,)"
      ]
    },
    {
      "cell_type": "markdown",
      "id": "786bab8b",
      "metadata": {
        "id": "786bab8b"
      },
      "source": [
        "Observations: \n",
        "\n",
        "Yes, there is a positive linear relation between 'Fare' and 'Survived' feature which means that people who paid a more expensive fare had more probabilities to survive (Survive = 1)."
      ]
    },
    {
      "cell_type": "markdown",
      "id": "0012d00f",
      "metadata": {
        "id": "0012d00f"
      },
      "source": [
        "### Eliminating duplicated data\n",
        "\n",
        "Duplicates are entries that represent the same sample point multiple times. For example, if a measurement or record was registered twice by two different people. Detecting such duplicates is not always easy, as each dataset might have a unique identifier (e.g. an index number or an ID that is unique to each new sample). If we are not sure yet about which is the column that identifies each unique sample, we might want to ignore them first. And once we are aware about the number of duplicates in our dataset, we can simply drop them with drop_duplicates().\n",
        "\n",
        "In the case of our dataset, it is not difficult to find that unique identifier column because it's column name is very clear: PassengerId."
      ]
    },
    {
      "cell_type": "code",
      "execution_count": null,
      "id": "4873ba98",
      "metadata": {
        "id": "4873ba98",
        "outputId": "3608c7b2-b2ba-45c5-dd35-123e6b7bd9fb"
      },
      "outputs": [
        {
          "name": "stdout",
          "output_type": "stream",
          "text": [
            "It seems that there are 0 duplicated passenger according to the PassengerId feature\n"
          ]
        }
      ],
      "source": [
        "train_duplicates = train_data['PassengerId'].duplicated().sum()\n",
        "\n",
        "print(f'It seems that there are {train_duplicates} duplicated passenger according to the PassengerId feature')"
      ]
    },
    {
      "cell_type": "code",
      "execution_count": null,
      "id": "e1349216",
      "metadata": {
        "id": "e1349216",
        "outputId": "ee9f1c10-3671-4f95-a0a4-0e43e77c8387"
      },
      "outputs": [
        {
          "name": "stdout",
          "output_type": "stream",
          "text": [
            "It seems that there are 0 duplicated passenger according to the PassengerId feature\n"
          ]
        }
      ],
      "source": [
        "test_duplicates = test_data['PassengerId'].duplicated().sum()\n",
        "\n",
        "print(f'It seems that there are {test_duplicates} duplicated passenger according to the PassengerId feature')"
      ]
    },
    {
      "cell_type": "markdown",
      "id": "5a611887",
      "metadata": {
        "id": "5a611887"
      },
      "source": [
        "### Eliminating irrelevant data\n",
        "\n",
        "The following columns will not be useful for prediction, so we will eliminate them, in train and test datasets."
      ]
    },
    {
      "cell_type": "code",
      "execution_count": null,
      "id": "71c1fede",
      "metadata": {
        "id": "71c1fede"
      },
      "outputs": [],
      "source": [
        "#Drop irrelevant columns in train data\n",
        "\n",
        "drop_cols = ['PassengerId','Cabin', 'Ticket', 'Name']\n",
        "train_data.drop(drop_cols, axis = 1, inplace = True)"
      ]
    },
    {
      "cell_type": "code",
      "execution_count": null,
      "id": "ac73f157",
      "metadata": {
        "id": "ac73f157"
      },
      "outputs": [],
      "source": [
        "#Drop same irrelevant columns in test data\n",
        "\n",
        "test_data.drop(drop_cols, axis = 1, inplace = True)"
      ]
    },
    {
      "cell_type": "markdown",
      "id": "126dd96d",
      "metadata": {
        "id": "126dd96d"
      },
      "source": [
        "**Pandas drop_duplicates() Function Syntax:**\n",
        "\n",
        "DataFrame.drop_duplicates(subset=None, keep=’first’, inplace=False)\n",
        "\n",
        "**Pandas drop_duplicates() Function Parameters:**\n",
        "\n",
        "subset: Subset takes a column or list of column label for identifying duplicate rows. By default, all the columns are used to find the duplicate rows.\n",
        "\n",
        "keep: allowed values are {‘first’, ‘last’, False}, default ‘first’. If ‘first’, duplicate rows except the first one is deleted. If ‘last’, duplicate rows except the last one is deleted. If False, all the duplicate rows are deleted.\n",
        "\n",
        "inplace: if True, the source DataFrame itself is changed. By default, source DataFrame remains unchanged and a new DataFrame instance is returned."
      ]
    },
    {
      "cell_type": "markdown",
      "id": "2417b6d0",
      "metadata": {
        "id": "2417b6d0"
      },
      "source": [
        "### Plotting different features against one other using heatmaps"
      ]
    },
    {
      "cell_type": "markdown",
      "id": "c8d7791f",
      "metadata": {
        "id": "c8d7791f"
      },
      "source": [
        "Correlations between variables can be found using pandas “.corr()” function and visualized with a matrix by using a heatmap in seaborn.\n",
        "The following heatmap shows some strong and weak correlations between variables. Dark shades represent negative correlation while lighter shades represent positive correlation."
      ]
    },
    {
      "cell_type": "code",
      "execution_count": null,
      "id": "be20c676",
      "metadata": {
        "id": "be20c676",
        "outputId": "0c5a6913-8491-4504-b4bc-79e7b9e38b5a"
      },
      "outputs": [
        {
          "data": {
            "text/plain": [
              "<AxesSubplot:>"
            ]
          },
          "execution_count": 8,
          "metadata": {},
          "output_type": "execute_result"
        },
        {
          "data": {
            "image/png": "[encoded data removed]",
            "text/plain": [
              "<Figure size 864x576 with 2 Axes>"
            ]
          },
          "metadata": {
            "needs_background": "light"
          },
          "output_type": "display_data"
        }
      ],
      "source": [
        "#Plotting a heatmap to find relations between features\n",
        "\n",
        "plt.figure(figsize=(12, 8))\n",
        "sns.heatmap(train_data.corr(), annot=True, cmap='viridis')"
      ]
    },
    {
      "cell_type": "markdown",
      "id": "7d97de26",
      "metadata": {
        "id": "7d97de26"
      },
      "source": [
        "Observations:\n",
        "\n",
        "Here you can infer that there is a strong negative relation between Fare and PClass. This is totally understandable because if a passenger instead of buying a ticket in 1st class (PClass = 1), decided to buy a ticket in 3rd class (PClass = 3), the ticket fare would certainly decrease.\n",
        "\n",
        "There is also a negative relation between the passenger class (pclass) and the age of the passenger. That means that 3rd class (Pclass = 3) had younger passengers than the 1st class (Pclass = 1).\n",
        "\n",
        "Also, we can see that Pclass is very related to the target variable 'Survived'. So the better passenger class, more probabilities to survive. We can confirm this relationship with the following graph."
      ]
    },
    {
      "cell_type": "code",
      "execution_count": null,
      "id": "240377a2",
      "metadata": {
        "id": "240377a2",
        "outputId": "8c148f3e-2109-4c5f-ca98-67a516dc8479"
      },
      "outputs": [
        {
          "data": {
            "image/png": "[encoded data removed]",
            "text/plain": [
              "<Figure size 576x288 with 1 Axes>"
            ]
          },
          "metadata": {
            "needs_background": "light"
          },
          "output_type": "display_data"
        }
      ],
      "source": [
        "#Checking correlation between Pclass and Fare:\n",
        "plt.figure(figsize = (8, 4))\n",
        "sns.boxplot(y = train_data.Pclass, x = train_data.Fare, orient = 'h', showfliers = False, palette = 'gist_heat')\n",
        "plt.ylabel('Passenger Class')\n",
        "plt.yticks([0,1,2], ['First Class','Second Class', 'Third Class'])\n",
        "plt.show()"
      ]
    },
    {
      "cell_type": "markdown",
      "id": "074d3098",
      "metadata": {
        "id": "074d3098"
      },
      "source": [
        ">The parameter showfliers = False is ignoring the outliers. But if we do not establish that parameter, we can use boxplots to view outliers.\n",
        "\n"
      ]
    },
    {
      "cell_type": "markdown",
      "id": "e3b78cc5",
      "metadata": {
        "id": "e3b78cc5"
      },
      "source": [
        "There are different ways of visualizing relationships:"
      ]
    },
    {
      "cell_type": "code",
      "execution_count": null,
      "id": "b7e3a2dd",
      "metadata": {
        "id": "b7e3a2dd",
        "outputId": "64d752f0-befd-41b4-a8ff-5b4ed8323f2b"
      },
      "outputs": [
        {
          "data": {
            "text/plain": [
              "<seaborn.axisgrid.PairGrid at 0x21db6e55db0>"
            ]
          },
          "execution_count": 10,
          "metadata": {},
          "output_type": "execute_result"
        },
        {
          "data": {
            "image/png": "[encoded data removed]",
            "text/plain": [
              "<Figure size 1080x1080 with 42 Axes>"
            ]
          },
          "metadata": {
            "needs_background": "light"
          },
          "output_type": "display_data"
        }
      ],
      "source": [
        "#Using seaborn.pairplot for a grid visualization of every relationship\n",
        "\n",
        "sns.pairplot(data=train_data)"
      ]
    },
    {
      "cell_type": "code",
      "execution_count": null,
      "id": "41bee425",
      "metadata": {
        "id": "41bee425",
        "outputId": "3b83e25c-0005-435e-ce50-c00cf2e65c66"
      },
      "outputs": [
        {
          "data": {
            "text/plain": [
              "Survived    1.000000\n",
              "Pclass     -0.334068\n",
              "Sex        -0.545899\n",
              "Age        -0.067081\n",
              "SibSp      -0.033395\n",
              "Parch       0.082157\n",
              "Fare        0.261742\n",
              "Embarked    0.102964\n",
              "fam_mbrs    0.018211\n",
              "Name: Survived, dtype: float64"
            ]
          },
          "execution_count": 20,
          "metadata": {},
          "output_type": "execute_result"
        }
      ],
      "source": [
        "#Correlation of features with target\n",
        "\n",
        "train_data.corr()[\"Survived\"]"
      ]
    },
    {
      "cell_type": "code",
      "execution_count": null,
      "id": "2ef91b6c",
      "metadata": {
        "id": "2ef91b6c",
        "outputId": "bd3bd1eb-9d7d-4a61-cd61-4ef05de2dd69"
      },
      "outputs": [
        {
          "data": {
            "text/html": [
              "<div>\n",
              "<style scoped>\n",
              "    .dataframe tbody tr th:only-of-type {\n",
              "        vertical-align: middle;\n",
              "    }\n",
              "\n",
              "    .dataframe tbody tr th {\n",
              "        vertical-align: top;\n",
              "    }\n",
              "\n",
              "    .dataframe thead th {\n",
              "        text-align: right;\n",
              "    }\n",
              "</style>\n",
              "<table border=\"1\" class=\"dataframe\">\n",
              "  <thead>\n",
              "    <tr style=\"text-align: right;\">\n",
              "      <th></th>\n",
              "      <th>Survived</th>\n",
              "      <th>Pclass</th>\n",
              "      <th>Age</th>\n",
              "      <th>SibSp</th>\n",
              "      <th>Parch</th>\n",
              "      <th>Fare</th>\n",
              "    </tr>\n",
              "  </thead>\n",
              "  <tbody>\n",
              "    <tr>\n",
              "      <th>Survived</th>\n",
              "      <td>1.000000</td>\n",
              "      <td>-0.338481</td>\n",
              "      <td>-0.077221</td>\n",
              "      <td>-0.035322</td>\n",
              "      <td>0.081629</td>\n",
              "      <td>0.257307</td>\n",
              "    </tr>\n",
              "    <tr>\n",
              "      <th>Pclass</th>\n",
              "      <td>-0.338481</td>\n",
              "      <td>1.000000</td>\n",
              "      <td>-0.369226</td>\n",
              "      <td>0.083081</td>\n",
              "      <td>0.018443</td>\n",
              "      <td>-0.549500</td>\n",
              "    </tr>\n",
              "    <tr>\n",
              "      <th>Age</th>\n",
              "      <td>-0.077221</td>\n",
              "      <td>-0.369226</td>\n",
              "      <td>1.000000</td>\n",
              "      <td>-0.308247</td>\n",
              "      <td>-0.189119</td>\n",
              "      <td>0.096067</td>\n",
              "    </tr>\n",
              "    <tr>\n",
              "      <th>SibSp</th>\n",
              "      <td>-0.035322</td>\n",
              "      <td>0.083081</td>\n",
              "      <td>-0.308247</td>\n",
              "      <td>1.000000</td>\n",
              "      <td>0.414838</td>\n",
              "      <td>0.159651</td>\n",
              "    </tr>\n",
              "    <tr>\n",
              "      <th>Parch</th>\n",
              "      <td>0.081629</td>\n",
              "      <td>0.018443</td>\n",
              "      <td>-0.189119</td>\n",
              "      <td>0.414838</td>\n",
              "      <td>1.000000</td>\n",
              "      <td>0.216225</td>\n",
              "    </tr>\n",
              "    <tr>\n",
              "      <th>Fare</th>\n",
              "      <td>0.257307</td>\n",
              "      <td>-0.549500</td>\n",
              "      <td>0.096067</td>\n",
              "      <td>0.159651</td>\n",
              "      <td>0.216225</td>\n",
              "      <td>1.000000</td>\n",
              "    </tr>\n",
              "  </tbody>\n",
              "</table>\n",
              "</div>"
            ],
            "text/plain": [
              "          Survived    Pclass       Age     SibSp     Parch      Fare\n",
              "Survived  1.000000 -0.338481 -0.077221 -0.035322  0.081629  0.257307\n",
              "Pclass   -0.338481  1.000000 -0.369226  0.083081  0.018443 -0.549500\n",
              "Age      -0.077221 -0.369226  1.000000 -0.308247 -0.189119  0.096067\n",
              "SibSp    -0.035322  0.083081 -0.308247  1.000000  0.414838  0.159651\n",
              "Parch     0.081629  0.018443 -0.189119  0.414838  1.000000  0.216225\n",
              "Fare      0.257307 -0.549500  0.096067  0.159651  0.216225  1.000000"
            ]
          },
          "execution_count": 11,
          "metadata": {},
          "output_type": "execute_result"
        }
      ],
      "source": [
        "#Using transpose\n",
        "\n",
        "train_data_corr = train_data.corr().transpose()\n",
        "train_data_corr"
      ]
    },
    {
      "cell_type": "code",
      "execution_count": null,
      "id": "0bff154d",
      "metadata": {
        "id": "0bff154d",
        "outputId": "8e31e945-20af-41f5-edca-9e7813e2b73e"
      },
      "outputs": [
        {
          "data": {
            "image/png": "[encoded data removed]",
            "text/plain": [
              "<Figure size 720x720 with 2 Axes>"
            ]
          },
          "metadata": {},
          "output_type": "display_data"
        }
      ],
      "source": [
        "# Using a different way of correlation matrix\n",
        "\n",
        "background_color = \"#97CADB\"\n",
        "\n",
        "fig = plt.figure(figsize=(10,10))\n",
        "gs = fig.add_gridspec(1,1)\n",
        "gs.update(wspace=0.3, hspace=0.15)\n",
        "ax0 = fig.add_subplot(gs[0,0])\n",
        "fig.patch.set_facecolor(background_color) \n",
        "ax0.set_facecolor(background_color) \n",
        "\n",
        "# train_data_corr = train_data[['Age', 'Fare', 'SibSp', 'Parch', 'Pclass','Survived']].corr().transpose()\n",
        "mask = np.triu(np.ones_like(train_data_corr))\n",
        "ax0.text(2,-0.1,\"Correlation Matrix\",fontsize=22, fontweight='bold', fontfamily='cursive', color=\"#000000\")\n",
        "sns.heatmap(train_data_corr,mask=mask,fmt=\".1f\",annot=True)\n",
        "plt.show()"
      ]
    },
    {
      "cell_type": "markdown",
      "id": "070f3f02",
      "metadata": {
        "id": "070f3f02"
      },
      "source": [
        "**End of Day 1!**\n",
        "\n",
        "Now, let's do a lot of exploratory data analysis on this module's project!"
      ]
    },
    {
      "cell_type": "markdown",
      "id": "33f6c72c",
      "metadata": {
        "id": "33f6c72c"
      },
      "source": [
        "# DAY 2: FEATURE ENGINEERING"
      ]
    },
    {
      "cell_type": "markdown",
      "id": "89d8d993",
      "metadata": {
        "id": "89d8d993"
      },
      "source": [
        "To read about what exactly are features and why should we do feature engineering, click on the following link: https://github.com/4GeeksAcademy/machine-learning-content/blob/master/05-3d-data/feature-engineering.ipynb\n",
        "\n",
        "The first process we will learn in our Titanic feature engineering will be how to find and deal with extreme values (outliers)."
      ]
    },
    {
      "cell_type": "markdown",
      "id": "d23c0e8b",
      "metadata": {
        "id": "d23c0e8b"
      },
      "source": [
        "### OUTLIERS\n",
        "\n",
        "**FINDING OUTLIERS**"
      ]
    },
    {
      "cell_type": "markdown",
      "id": "02684174",
      "metadata": {
        "id": "02684174"
      },
      "source": [
        "In statistics, an outlier is an observation point that is distant from other observations. In data, it means that our dataframe feature has some extreme values which we need to analyse further. Those extreme values may be typing errors, or they may be extreme values but considered normal in the population we are studying. In the case our outliers are typing errors we need to decide if we are going to eliminate them or replace them with another value. In the case a feature's outliers are considered normal and part of the population, it may be better if we keep them because it will give important information to our model. \n",
        "\n",
        "How important we consider the feature for our model will influence in our decision about what to do with outliers.\n",
        "\n",
        "Pandas describe() method is used to view some basic statistical details like percentile, mean, std, etc. of a data frame or a series of numeric values. In the case we would like to see the object type features using describe(), this should be entered as 'dataframe.describe(include='O')' and it will show us the most frequent value and how many times it appears.\n",
        "\n",
        "Syntax: \n",
        "\n",
        "DataFrame.describe(percentiles=None, include=None, exclude=None)\n",
        "\n",
        "Parameters:\n",
        "\n",
        "percentile: list like data type of numbers between 0-1 to return the respective percentile\n",
        "\n",
        "include: List of data types to be included while describing dataframe. Default is None\n",
        "\n",
        "exclude: List of data types to be Excluded while describing dataframe. Default is None\n",
        "\n",
        "Return type: Statistical summary of data frame."
      ]
    },
    {
      "cell_type": "code",
      "execution_count": null,
      "id": "f7c6ae52",
      "metadata": {
        "id": "f7c6ae52",
        "outputId": "85afc226-6732-48e8-cac1-ee2c3d0ee06f"
      },
      "outputs": [
        {
          "data": {
            "text/html": [
              "<div>\n",
              "<style scoped>\n",
              "    .dataframe tbody tr th:only-of-type {\n",
              "        vertical-align: middle;\n",
              "    }\n",
              "\n",
              "    .dataframe tbody tr th {\n",
              "        vertical-align: top;\n",
              "    }\n",
              "\n",
              "    .dataframe thead th {\n",
              "        text-align: right;\n",
              "    }\n",
              "</style>\n",
              "<table border=\"1\" class=\"dataframe\">\n",
              "  <thead>\n",
              "    <tr style=\"text-align: right;\">\n",
              "      <th></th>\n",
              "      <th>Survived</th>\n",
              "      <th>Pclass</th>\n",
              "      <th>Age</th>\n",
              "      <th>SibSp</th>\n",
              "      <th>Parch</th>\n",
              "      <th>Fare</th>\n",
              "    </tr>\n",
              "  </thead>\n",
              "  <tbody>\n",
              "    <tr>\n",
              "      <th>count</th>\n",
              "      <td>891.000000</td>\n",
              "      <td>891.000000</td>\n",
              "      <td>714.000000</td>\n",
              "      <td>891.000000</td>\n",
              "      <td>891.000000</td>\n",
              "      <td>891.000000</td>\n",
              "    </tr>\n",
              "    <tr>\n",
              "      <th>mean</th>\n",
              "      <td>0.383838</td>\n",
              "      <td>2.308642</td>\n",
              "      <td>29.699118</td>\n",
              "      <td>0.523008</td>\n",
              "      <td>0.381594</td>\n",
              "      <td>32.204208</td>\n",
              "    </tr>\n",
              "    <tr>\n",
              "      <th>std</th>\n",
              "      <td>0.486592</td>\n",
              "      <td>0.836071</td>\n",
              "      <td>14.526497</td>\n",
              "      <td>1.102743</td>\n",
              "      <td>0.806057</td>\n",
              "      <td>49.693429</td>\n",
              "    </tr>\n",
              "    <tr>\n",
              "      <th>min</th>\n",
              "      <td>0.000000</td>\n",
              "      <td>1.000000</td>\n",
              "      <td>0.420000</td>\n",
              "      <td>0.000000</td>\n",
              "      <td>0.000000</td>\n",
              "      <td>0.000000</td>\n",
              "    </tr>\n",
              "    <tr>\n",
              "      <th>25%</th>\n",
              "      <td>0.000000</td>\n",
              "      <td>2.000000</td>\n",
              "      <td>20.125000</td>\n",
              "      <td>0.000000</td>\n",
              "      <td>0.000000</td>\n",
              "      <td>7.910400</td>\n",
              "    </tr>\n",
              "    <tr>\n",
              "      <th>50%</th>\n",
              "      <td>0.000000</td>\n",
              "      <td>3.000000</td>\n",
              "      <td>28.000000</td>\n",
              "      <td>0.000000</td>\n",
              "      <td>0.000000</td>\n",
              "      <td>14.454200</td>\n",
              "    </tr>\n",
              "    <tr>\n",
              "      <th>75%</th>\n",
              "      <td>1.000000</td>\n",
              "      <td>3.000000</td>\n",
              "      <td>38.000000</td>\n",
              "      <td>1.000000</td>\n",
              "      <td>0.000000</td>\n",
              "      <td>31.000000</td>\n",
              "    </tr>\n",
              "    <tr>\n",
              "      <th>max</th>\n",
              "      <td>1.000000</td>\n",
              "      <td>3.000000</td>\n",
              "      <td>80.000000</td>\n",
              "      <td>8.000000</td>\n",
              "      <td>6.000000</td>\n",
              "      <td>512.329200</td>\n",
              "    </tr>\n",
              "  </tbody>\n",
              "</table>\n",
              "</div>"
            ],
            "text/plain": [
              "         Survived      Pclass         Age       SibSp       Parch        Fare\n",
              "count  891.000000  891.000000  714.000000  891.000000  891.000000  891.000000\n",
              "mean     0.383838    2.308642   29.699118    0.523008    0.381594   32.204208\n",
              "std      0.486592    0.836071   14.526497    1.102743    0.806057   49.693429\n",
              "min      0.000000    1.000000    0.420000    0.000000    0.000000    0.000000\n",
              "25%      0.000000    2.000000   20.125000    0.000000    0.000000    7.910400\n",
              "50%      0.000000    3.000000   28.000000    0.000000    0.000000   14.454200\n",
              "75%      1.000000    3.000000   38.000000    1.000000    0.000000   31.000000\n",
              "max      1.000000    3.000000   80.000000    8.000000    6.000000  512.329200"
            ]
          },
          "execution_count": 15,
          "metadata": {},
          "output_type": "execute_result"
        }
      ],
      "source": [
        "#Let's use the describe method to see the statistics on our numerical features\n",
        "\n",
        "train_data.describe()"
      ]
    },
    {
      "cell_type": "markdown",
      "id": "ff28534a",
      "metadata": {
        "id": "ff28534a"
      },
      "source": [
        "We can see that the 891 records contain data in each and every column left."
      ]
    },
    {
      "cell_type": "code",
      "execution_count": null,
      "id": "67c04c70",
      "metadata": {
        "id": "67c04c70",
        "outputId": "1d246823-fc14-4f40-f68a-692c9ddbee9f"
      },
      "outputs": [
        {
          "data": {
            "text/html": [
              "<div>\n",
              "<style scoped>\n",
              "    .dataframe tbody tr th:only-of-type {\n",
              "        vertical-align: middle;\n",
              "    }\n",
              "\n",
              "    .dataframe tbody tr th {\n",
              "        vertical-align: top;\n",
              "    }\n",
              "\n",
              "    .dataframe thead th {\n",
              "        text-align: right;\n",
              "    }\n",
              "</style>\n",
              "<table border=\"1\" class=\"dataframe\">\n",
              "  <thead>\n",
              "    <tr style=\"text-align: right;\">\n",
              "      <th></th>\n",
              "      <th>Sex</th>\n",
              "      <th>Embarked</th>\n",
              "    </tr>\n",
              "  </thead>\n",
              "  <tbody>\n",
              "    <tr>\n",
              "      <th>count</th>\n",
              "      <td>891</td>\n",
              "      <td>889</td>\n",
              "    </tr>\n",
              "    <tr>\n",
              "      <th>unique</th>\n",
              "      <td>2</td>\n",
              "      <td>3</td>\n",
              "    </tr>\n",
              "    <tr>\n",
              "      <th>top</th>\n",
              "      <td>male</td>\n",
              "      <td>S</td>\n",
              "    </tr>\n",
              "    <tr>\n",
              "      <th>freq</th>\n",
              "      <td>577</td>\n",
              "      <td>644</td>\n",
              "    </tr>\n",
              "  </tbody>\n",
              "</table>\n",
              "</div>"
            ],
            "text/plain": [
              "         Sex Embarked\n",
              "count    891      889\n",
              "unique     2        3\n",
              "top     male        S\n",
              "freq     577      644"
            ]
          },
          "execution_count": 18,
          "metadata": {},
          "output_type": "execute_result"
        }
      ],
      "source": [
        "#Now, let's modify its parameters to be able to see some statistics on our categorical features.\n",
        "\n",
        "train_data.describe(include=['O'])"
      ]
    },
    {
      "cell_type": "markdown",
      "id": "84c4ea49",
      "metadata": {
        "id": "84c4ea49"
      },
      "source": [
        "**WHY IS THIS USEFUL TO FIND OUTLIERS?**\n",
        "\n",
        "In the numerical features, we can look at the min and max value for a especific feature, and compare it to its 25% and 75% percentile. We can also compare the mean to the 50% percentile and confirm if there is any extreme high or low value making my mean go up or down, much more than the 50% percentile.\n",
        "\n",
        "Once we suspect there are outliers, we can use a boxplot for that feature to have a better visualization of outliers.\n",
        "\n",
        "Observations: According to our statistics dataframe, everything seems normal except for the 'Fare' column which has a mean of 32.20 but its 50% percentile is 14, and its max value is 512. We could say 512 seems to be an outlier but it could be a typing error. It is also possible that the most expensive ticket had that price. It would be useful if we do some research and confirm that information.\n",
        "\n",
        "Let's see how to write the code for a boxplot in order to visualize outliers.\n",
        "A box plot shows the distribution of quantitative data in a way that facilitates comparisons between variables.The box shows the quartiles of the dataset while the whiskers extend to show the rest of the distribution."
      ]
    },
    {
      "cell_type": "code",
      "execution_count": null,
      "id": "c492cafe",
      "metadata": {
        "id": "c492cafe",
        "outputId": "7e42bb2a-00bd-4db8-ffd9-54f88421405e"
      },
      "outputs": [
        {
          "data": {
            "text/plain": [
              "Text(0, 0.5, 'Fare')"
            ]
          },
          "execution_count": 19,
          "metadata": {},
          "output_type": "execute_result"
        },
        {
          "data": {
            "image/png": "[encoded data removed]",
            "text/plain": [
              "<Figure size 432x432 with 1 Axes>"
            ]
          },
          "metadata": {
            "needs_background": "light"
          },
          "output_type": "display_data"
        }
      ],
      "source": [
        "#Let's evaluate our 'Fare' variable.\n",
        "\n",
        "plt.figure(figsize=(6,6))\n",
        "sns.boxplot(data=train_data['Fare'])\n",
        "plt.title('Looking for outliers in Fare feature')\n",
        "plt.ylabel('Fare')"
      ]
    },
    {
      "cell_type": "markdown",
      "id": "23361397",
      "metadata": {
        "id": "23361397"
      },
      "source": [
        "Observations: \n",
        "\n",
        "-It looks like the ticket fare of 512 is not very common. We should establish some upper and lower bounds to determine whether a data point should be considered or not an outlier. There are a couple of ways to determine this and we will learn about them in the data cleaning process, on how to deal with outliers."
      ]
    },
    {
      "cell_type": "markdown",
      "id": "cd8c5a2a",
      "metadata": {
        "id": "cd8c5a2a"
      },
      "source": [
        "**HOW TO DEAL WITH OUTLIERS**\n",
        "\n",
        "To learn about the types of outliers and different methods to deal with them, read the information from the following link:\n",
        "\n",
        "https://github.com/4GeeksAcademy/machine-learning-content/blob/master/05-3d-data/how-to-deal-with-outliers.ipynb\n"
      ]
    },
    {
      "cell_type": "markdown",
      "id": "bb89ad2b",
      "metadata": {
        "id": "bb89ad2b"
      },
      "source": [
        "We will apply one of those methods by defining upper and lower bounds. Let's see how is it implemented:"
      ]
    },
    {
      "cell_type": "code",
      "execution_count": null,
      "id": "2fe64ba7",
      "metadata": {
        "id": "2fe64ba7",
        "outputId": "1c93bb88-c609-418a-ffc3-8745d1575fbc"
      },
      "outputs": [
        {
          "name": "stdout",
          "output_type": "stream",
          "text": [
            "count    891.000000\n",
            "mean      32.204208\n",
            "std       49.693429\n",
            "min        0.000000\n",
            "25%        7.910400\n",
            "50%       14.454200\n",
            "75%       31.000000\n",
            "max      512.329200\n",
            "Name: Fare, dtype: float64\n"
          ]
        }
      ],
      "source": [
        "fare_stat = train_data['Fare'].describe()\n",
        "print(fare_stat)"
      ]
    },
    {
      "cell_type": "code",
      "execution_count": null,
      "id": "e782ddb0",
      "metadata": {
        "id": "e782ddb0",
        "outputId": "9c6d5b2a-4e53-4239-9d70-b4467cbb58da"
      },
      "outputs": [
        {
          "name": "stdout",
          "output_type": "stream",
          "text": [
            "The upper & lower bounds for suspected outliers are 65.6344 and -26.724.\n"
          ]
        }
      ],
      "source": [
        "IQR = fare_stat['75%']-fare_stat['25%']\n",
        "upper = fare_stat['75%'] + 1.5*IQR\n",
        "lower = fare_stat['25%'] - 1.5*IQR\n",
        "print('The upper & lower bounds for suspected outliers are {} and {}.'.format(upper,lower))"
      ]
    },
    {
      "cell_type": "markdown",
      "id": "0d806eae",
      "metadata": {
        "id": "0d806eae"
      },
      "source": [
        "Based on this results, we should drop Fare values above 65. However, our criteria is very important here, and based on the prices we saw in the boxplot the most extreme values are above 300. Let's see how many values represent that extreme value of 512 and drop them."
      ]
    },
    {
      "cell_type": "code",
      "execution_count": null,
      "id": "ee3da783",
      "metadata": {
        "id": "ee3da783",
        "outputId": "ee78d461-26cf-414d-e049-d00eab3b1f19"
      },
      "outputs": [
        {
          "data": {
            "text/html": [
              "<div>\n",
              "<style scoped>\n",
              "    .dataframe tbody tr th:only-of-type {\n",
              "        vertical-align: middle;\n",
              "    }\n",
              "\n",
              "    .dataframe tbody tr th {\n",
              "        vertical-align: top;\n",
              "    }\n",
              "\n",
              "    .dataframe thead th {\n",
              "        text-align: right;\n",
              "    }\n",
              "</style>\n",
              "<table border=\"1\" class=\"dataframe\">\n",
              "  <thead>\n",
              "    <tr style=\"text-align: right;\">\n",
              "      <th></th>\n",
              "      <th>Survived</th>\n",
              "      <th>Pclass</th>\n",
              "      <th>Sex</th>\n",
              "      <th>Age</th>\n",
              "      <th>SibSp</th>\n",
              "      <th>Parch</th>\n",
              "      <th>Fare</th>\n",
              "      <th>Embarked</th>\n",
              "    </tr>\n",
              "  </thead>\n",
              "  <tbody>\n",
              "    <tr>\n",
              "      <th>258</th>\n",
              "      <td>1</td>\n",
              "      <td>1</td>\n",
              "      <td>female</td>\n",
              "      <td>35.0</td>\n",
              "      <td>0</td>\n",
              "      <td>0</td>\n",
              "      <td>512.3292</td>\n",
              "      <td>C</td>\n",
              "    </tr>\n",
              "    <tr>\n",
              "      <th>679</th>\n",
              "      <td>1</td>\n",
              "      <td>1</td>\n",
              "      <td>male</td>\n",
              "      <td>36.0</td>\n",
              "      <td>0</td>\n",
              "      <td>1</td>\n",
              "      <td>512.3292</td>\n",
              "      <td>C</td>\n",
              "    </tr>\n",
              "    <tr>\n",
              "      <th>737</th>\n",
              "      <td>1</td>\n",
              "      <td>1</td>\n",
              "      <td>male</td>\n",
              "      <td>35.0</td>\n",
              "      <td>0</td>\n",
              "      <td>0</td>\n",
              "      <td>512.3292</td>\n",
              "      <td>C</td>\n",
              "    </tr>\n",
              "  </tbody>\n",
              "</table>\n",
              "</div>"
            ],
            "text/plain": [
              "     Survived  Pclass     Sex   Age  SibSp  Parch      Fare Embarked\n",
              "258         1       1  female  35.0      0      0  512.3292        C\n",
              "679         1       1    male  36.0      0      1  512.3292        C\n",
              "737         1       1    male  35.0      0      0  512.3292        C"
            ]
          },
          "execution_count": 23,
          "metadata": {},
          "output_type": "execute_result"
        }
      ],
      "source": [
        "#visualizing data with fare above 300\n",
        "\n",
        "train_data[train_data['Fare'] > 300]"
      ]
    },
    {
      "cell_type": "markdown",
      "id": "cf3f0573",
      "metadata": {
        "id": "cf3f0573"
      },
      "source": [
        "Observations: The three individuals who payed a fare of '512.3292' did survive. Should we drop them? Or can they bring valuable information to our model?\n",
        "\n",
        "We'll learn how to drop rows with values bigger than certain value. But you are welcome to investigate more about Titanic fares and decide if keeping them or not."
      ]
    },
    {
      "cell_type": "code",
      "execution_count": null,
      "id": "e676f437",
      "metadata": {
        "id": "e676f437"
      },
      "outputs": [],
      "source": [
        "#Dropping data with fare above 300\n",
        "\n",
        "train_data.drop(train_data[(train_data['Fare'] > 300)].index, inplace=True)"
      ]
    },
    {
      "cell_type": "code",
      "execution_count": null,
      "id": "0e853183",
      "metadata": {
        "id": "0e853183",
        "outputId": "67ed2291-a4ac-4ecc-a292-9be9e112325f"
      },
      "outputs": [
        {
          "data": {
            "text/plain": [
              "(888, 8)"
            ]
          },
          "execution_count": 14,
          "metadata": {},
          "output_type": "execute_result"
        }
      ],
      "source": [
        "#Confirm there are three rows less.\n",
        "\n",
        "train_data.shape"
      ]
    },
    {
      "cell_type": "markdown",
      "id": "e216e756",
      "metadata": {
        "id": "e216e756"
      },
      "source": [
        "We confirm that we have eliminated those 3 outliers!"
      ]
    },
    {
      "cell_type": "markdown",
      "id": "e7a6ed4d",
      "metadata": {
        "id": "e7a6ed4d"
      },
      "source": [
        "### MISSING VALUES\n",
        "\n",
        "**FINDING MISSING OR NULL VALUES**"
      ]
    },
    {
      "cell_type": "markdown",
      "id": "f7bfb0b5",
      "metadata": {
        "id": "f7bfb0b5"
      },
      "source": [
        "Most of the machine learning algorithms are not able to handle missing values. Having some missing values is normal and we should decide if eliminating them or replacing them with other values. What we want to identify at this stage are big holes in the dataset with features that have a lot of missing values.\n",
        "\n",
        "We begin by separating our features into numerical and categorical columns. We do this because the method to handle missing values, later, will be different for these two data types."
      ]
    },
    {
      "cell_type": "code",
      "execution_count": null,
      "id": "ccb045cb",
      "metadata": {
        "id": "ccb045cb",
        "outputId": "d2b7452c-8557-465a-d732-2ae402105cc2"
      },
      "outputs": [
        {
          "name": "stdout",
          "output_type": "stream",
          "text": [
            "Numerical variables: Index(['Survived', 'Pclass', 'Age', 'SibSp', 'Parch', 'Fare'], dtype='object')\n",
            "Categorical variables: Index(['Sex', 'Embarked'], dtype='object')\n"
          ]
        }
      ],
      "source": [
        "# Separate numerical and categorical variables.\n",
        "\n",
        "num_vars = train_data.columns[train_data.dtypes != 'object']\n",
        "cat_vars = train_data.columns[train_data.dtypes == 'object']\n",
        "\n",
        "print(\"Numerical variables:\", num_vars)\n",
        "print(\"Categorical variables:\", cat_vars)"
      ]
    },
    {
      "cell_type": "markdown",
      "id": "3e10c227",
      "metadata": {
        "id": "3e10c227"
      },
      "source": [
        "We will use the pandas “isnull()” function to find out all the fields which have missing values. This will return True if a field has missing values and false if the field does not have missing values. \n",
        "To get how many missing values are in each column we use sum() along with isnull(). This will sum up all the True’s in each column. "
      ]
    },
    {
      "cell_type": "code",
      "execution_count": null,
      "id": "30a92cdb",
      "metadata": {
        "id": "30a92cdb",
        "outputId": "2163ee00-568c-4b85-9107-171c5bc8f3ad"
      },
      "outputs": [
        {
          "data": {
            "text/plain": [
              "Survived      0\n",
              "Pclass        0\n",
              "Age         177\n",
              "SibSp         0\n",
              "Parch         0\n",
              "Fare          0\n",
              "dtype: int64"
            ]
          },
          "execution_count": 12,
          "metadata": {},
          "output_type": "execute_result"
        }
      ],
      "source": [
        "train_data[num_vars].isnull().sum()"
      ]
    },
    {
      "cell_type": "code",
      "execution_count": null,
      "id": "7643760d",
      "metadata": {
        "id": "7643760d",
        "outputId": "cc8ccf91-9724-4775-fed6-36fbb374eddc"
      },
      "outputs": [
        {
          "data": {
            "text/plain": [
              "Sex         0\n",
              "Embarked    2\n",
              "dtype: int64"
            ]
          },
          "execution_count": 13,
          "metadata": {},
          "output_type": "execute_result"
        }
      ],
      "source": [
        "train_data[cat_vars].isnull().sum()"
      ]
    },
    {
      "cell_type": "markdown",
      "id": "d5f19158",
      "metadata": {
        "id": "d5f19158"
      },
      "source": [
        "Now, sort_values() will sort the missing values in ascending order. It is always a good practice to sort them in descending order so we can see the columns that have the highest number of missing values first."
      ]
    },
    {
      "cell_type": "code",
      "execution_count": null,
      "id": "dc240726",
      "metadata": {
        "id": "dc240726",
        "outputId": "73e86f69-95d4-4edc-dc63-5f4be3b3b10e"
      },
      "outputs": [
        {
          "data": {
            "text/plain": [
              "Age         177\n",
              "Survived      0\n",
              "Pclass        0\n",
              "SibSp         0\n",
              "Parch         0\n",
              "Fare          0\n",
              "dtype: int64"
            ]
          },
          "execution_count": 29,
          "metadata": {},
          "output_type": "execute_result"
        }
      ],
      "source": [
        "train_data[num_vars].isnull().sum().sort_values(ascending=False)"
      ]
    },
    {
      "cell_type": "code",
      "execution_count": null,
      "id": "fcda4828",
      "metadata": {
        "id": "fcda4828",
        "outputId": "70877f11-b7d9-486c-c414-055e3bc01310"
      },
      "outputs": [
        {
          "data": {
            "text/plain": [
              "Embarked    2\n",
              "Sex         0\n",
              "dtype: int64"
            ]
          },
          "execution_count": 30,
          "metadata": {},
          "output_type": "execute_result"
        }
      ],
      "source": [
        "train_data[cat_vars].isnull().sum().sort_values(ascending=False)"
      ]
    },
    {
      "cell_type": "markdown",
      "id": "0f9d2354",
      "metadata": {
        "id": "0f9d2354"
      },
      "source": [
        "Finally , we can divide that result by the length of our dataframe (the number of rows) in order to get the percentage of missing values in each column. Missing values are usually represented in the form of Nan, null or None in the dataset."
      ]
    },
    {
      "cell_type": "code",
      "execution_count": null,
      "id": "30a05cec",
      "metadata": {
        "id": "30a05cec",
        "outputId": "be534f1a-359e-4e70-a566-4e3cb4a762b1"
      },
      "outputs": [
        {
          "data": {
            "text/plain": [
              "Age         0.199324\n",
              "Survived    0.000000\n",
              "Pclass      0.000000\n",
              "SibSp       0.000000\n",
              "Parch       0.000000\n",
              "Fare        0.000000\n",
              "dtype: float64"
            ]
          },
          "execution_count": 31,
          "metadata": {},
          "output_type": "execute_result"
        }
      ],
      "source": [
        "train_data[num_vars].isnull().sum().sort_values(ascending=False)/len(train_data)"
      ]
    },
    {
      "cell_type": "code",
      "execution_count": null,
      "id": "8caaff03",
      "metadata": {
        "id": "8caaff03",
        "outputId": "3c2afedb-e4b2-44db-c6b1-2cc8dde47a6e"
      },
      "outputs": [
        {
          "data": {
            "text/plain": [
              "Embarked    0.002252\n",
              "Sex         0.000000\n",
              "dtype: float64"
            ]
          },
          "execution_count": 32,
          "metadata": {},
          "output_type": "execute_result"
        }
      ],
      "source": [
        "train_data[cat_vars].isnull().sum().sort_values(ascending=False)/len(train_data)"
      ]
    },
    {
      "cell_type": "code",
      "execution_count": null,
      "id": "32717ea6",
      "metadata": {
        "id": "32717ea6",
        "outputId": "c27b504a-8f0b-4a95-aeea-f6f9ad49c867"
      },
      "outputs": [
        {
          "data": {
            "text/plain": [
              "Pclass       0\n",
              "Sex          0\n",
              "Age         86\n",
              "SibSp        0\n",
              "Parch        0\n",
              "Fare         1\n",
              "Embarked     0\n",
              "dtype: int64"
            ]
          },
          "execution_count": 16,
          "metadata": {},
          "output_type": "execute_result"
        }
      ],
      "source": [
        "# How many null values should I deal with in the test data?\n",
        "\n",
        "test_data.isnull().sum()"
      ]
    },
    {
      "cell_type": "markdown",
      "id": "4978e18f",
      "metadata": {
        "id": "4978e18f"
      },
      "source": [
        "**HOW TO DEAL WITH MISSING VALUES**\n",
        " \n",
        "To learn about the techniques on how to deal with missing values, read the information from the following link:\n",
        "\n",
        "https://github.com/4GeeksAcademy/machine-learning-content/blob/master/05-3d-data/how-to-deal-with-missing-values.ipynb"
      ]
    },
    {
      "cell_type": "code",
      "execution_count": null,
      "id": "1be2b1e1",
      "metadata": {
        "id": "1be2b1e1"
      },
      "outputs": [],
      "source": [
        "# Handling Missing Values in train_data\n",
        "\n",
        "## Fill missing AGE with Median\n",
        "train_data['Age'].fillna(train_data['Age'].median(), inplace=True)\n",
        "\n",
        "## Fill missing EMBARKED with Mode\n",
        "train_data['Embarked'].fillna(train_data['Embarked'].mode()[0], inplace=True)"
      ]
    },
    {
      "cell_type": "markdown",
      "id": "41c2b56b",
      "metadata": {
        "id": "41c2b56b"
      },
      "source": [
        "The notation '[0]' means that the thing before it (mode() in this case) is a collection, a list, an array, ..., and you are taking the first element.\n",
        "\n",
        "The mode() returns 2 values, first is mode value, second is count. So 'train_data['Embarked'].mode()[0]' means we get the mode value of 'train_data['Embarked']'.\n",
        "\n",
        "Let's verify there were no missing values left:"
      ]
    },
    {
      "cell_type": "code",
      "execution_count": null,
      "id": "5ef5c70a",
      "metadata": {
        "id": "5ef5c70a",
        "outputId": "5fa729e3-2c09-4989-83a7-27b6b0ca7d62"
      },
      "outputs": [
        {
          "data": {
            "text/plain": [
              "Survived    0\n",
              "Pclass      0\n",
              "Sex         0\n",
              "Age         0\n",
              "SibSp       0\n",
              "Parch       0\n",
              "Fare        0\n",
              "Embarked    0\n",
              "dtype: int64"
            ]
          },
          "execution_count": 16,
          "metadata": {},
          "output_type": "execute_result"
        }
      ],
      "source": [
        "train_data.isnull().sum()"
      ]
    },
    {
      "cell_type": "markdown",
      "id": "915a72c9",
      "metadata": {
        "id": "915a72c9"
      },
      "source": [
        "Now let's also handle the missing values in our test data:"
      ]
    },
    {
      "cell_type": "code",
      "execution_count": null,
      "id": "72eebe9a",
      "metadata": {
        "id": "72eebe9a"
      },
      "outputs": [],
      "source": [
        "# Handling Missing Values in test data\n",
        "\n",
        "## Fill missing AGE and FARE with Median\n",
        "\n",
        "test_data['Age'].fillna(test_data['Age'].median(), inplace=True)\n",
        "test_data['Fare'].fillna(test_data['Fare'].median(), inplace=True)"
      ]
    },
    {
      "cell_type": "code",
      "execution_count": null,
      "id": "d7f59bc9",
      "metadata": {
        "id": "d7f59bc9",
        "outputId": "eda56cd9-0b4a-4e2c-ec95-90d7d7bd7f3e"
      },
      "outputs": [
        {
          "data": {
            "text/plain": [
              "Pclass      0\n",
              "Sex         0\n",
              "Age         0\n",
              "SibSp       0\n",
              "Parch       0\n",
              "Fare        0\n",
              "Embarked    0\n",
              "dtype: int64"
            ]
          },
          "execution_count": 18,
          "metadata": {},
          "output_type": "execute_result"
        }
      ],
      "source": [
        "test_data.isnull().sum()"
      ]
    },
    {
      "cell_type": "markdown",
      "id": "21f14c3f",
      "metadata": {
        "id": "21f14c3f"
      },
      "source": [
        "### Creating new features from the ones available in our dataset\n",
        "\n",
        "As part of the feature engineering and before encoding our label variables, we will learn how to create new features based on the existing ones. Let's look how is our dataset so far by taking a look at the first 10 rows."
      ]
    },
    {
      "cell_type": "code",
      "execution_count": null,
      "id": "63943cdd",
      "metadata": {
        "id": "63943cdd"
      },
      "outputs": [],
      "source": [
        "train_data.head(10)"
      ]
    },
    {
      "cell_type": "code",
      "execution_count": null,
      "id": "4b5ee78d",
      "metadata": {
        "id": "4b5ee78d",
        "outputId": "7d6efb21-8ba1-41c9-f029-4c1c088f7929"
      },
      "outputs": [
        {
          "name": "stdout",
          "output_type": "stream",
          "text": [
            "     Survived  Pclass     Sex   Age  SibSp  Parch     Fare Embarked\n",
            "0           0       3    male  22.0      1      0   7.2500        S\n",
            "1           1       1  female  38.0      1      0  71.2833        C\n",
            "2           1       3  female  26.0      0      0   7.9250        S\n",
            "3           1       1  female  35.0      1      0  53.1000        S\n",
            "4           0       3    male  35.0      0      0   8.0500        S\n",
            "..        ...     ...     ...   ...    ...    ...      ...      ...\n",
            "886         0       2    male  27.0      0      0  13.0000        S\n",
            "887         1       1  female  19.0      0      0  30.0000        S\n",
            "888         0       3  female  28.0      1      2  23.4500        S\n",
            "889         1       1    male  26.0      0      0  30.0000        C\n",
            "890         0       3    male  32.0      0      0   7.7500        Q\n",
            "\n",
            "[888 rows x 8 columns]\n",
            "     Survived  Pclass     Sex   Age  SibSp  Parch     Fare Embarked  fam_mbrs\n",
            "0           0       3    male  22.0      1      0   7.2500        S         1\n",
            "1           1       1  female  38.0      1      0  71.2833        C         1\n",
            "2           1       3  female  26.0      0      0   7.9250        S         0\n",
            "3           1       1  female  35.0      1      0  53.1000        S         1\n",
            "4           0       3    male  35.0      0      0   8.0500        S         0\n",
            "..        ...     ...     ...   ...    ...    ...      ...      ...       ...\n",
            "886         0       2    male  27.0      0      0  13.0000        S         0\n",
            "887         1       1  female  19.0      0      0  30.0000        S         0\n",
            "888         0       3  female  28.0      1      2  23.4500        S         3\n",
            "889         1       1    male  26.0      0      0  30.0000        C         0\n",
            "890         0       3    male  32.0      0      0   7.7500        Q         0\n",
            "\n",
            "[888 rows x 9 columns]\n"
          ]
        }
      ],
      "source": [
        "# We will create a new column to show how many family members of each passenger were in the Titanic.\n",
        "# We will calculate it based on the sum of SibSp (siblings and spouse) and Parch  (parents and children)\n",
        "\n",
        "print(train_data)\n",
        "\n",
        "train_data[\"fam_mbrs\"] = train_data[\"SibSp\"] + train_data[\"Parch\"]\n",
        "\n",
        "print(train_data)"
      ]
    },
    {
      "cell_type": "code",
      "execution_count": null,
      "id": "9b5188e1",
      "metadata": {
        "id": "9b5188e1"
      },
      "outputs": [],
      "source": [
        "test_data[\"fam_mbrs\"] = test_data[\"SibSp\"] + test_data[\"Parch\"]"
      ]
    },
    {
      "cell_type": "markdown",
      "id": "91d67faf",
      "metadata": {
        "id": "91d67faf"
      },
      "source": [
        "### FEATURE ENCODING FOR CATEGORICAL VARIABLES"
      ]
    },
    {
      "cell_type": "markdown",
      "id": "f4a8ec89",
      "metadata": {
        "id": "f4a8ec89"
      },
      "source": [
        "Feature encoding is the process of turning categorical data in a dataset into numerical data. It is essential that we perform feature encoding because most machine learning models can only interpret numerical data and not data in text form.\n",
        "\n",
        "To read about the different methods of feature encoding go to following link: https://github.com/4GeeksAcademy/machine-learning-content/blob/master/05-3d-data/feature-encoding-for-categorical-variables.ipynb\n",
        "\n",
        "To add some additional information, here we will use a different and short method on how to apply specific numbers directly to our label features, so we are manually encoding our categorical features, but you are free to use Scikit learn or Pandas."
      ]
    },
    {
      "cell_type": "code",
      "execution_count": null,
      "id": "1279c0aa",
      "metadata": {
        "id": "1279c0aa"
      },
      "outputs": [],
      "source": [
        "#Train data\n",
        "\n",
        "# Encoding the 'Sex' column\n",
        "train_data['Sex'] = train_data['Sex'].apply(lambda x: 1 if x == 'male' else 0)\n",
        "\n",
        "# Encoding the 'Embarked' column\n",
        "train_data['Embarked'] = train_data['Embarked'].map({'S' : 0, 'C': 1, 'Q': 2})"
      ]
    },
    {
      "cell_type": "code",
      "execution_count": null,
      "id": "00d620ba",
      "metadata": {
        "id": "00d620ba"
      },
      "outputs": [],
      "source": [
        "#Test data\n",
        "\n",
        "# Encoding the 'Sex' column\n",
        "test_data['Sex'] = test_data['Sex'].apply(lambda x: 1 if x == 'male' else 0)\n",
        "\n",
        "# Encoding the 'Embarked' column\n",
        "test_data['Embarked'] = test_data['Embarked'].map({'S' : 0, 'C': 1, 'Q': 2})"
      ]
    },
    {
      "cell_type": "code",
      "execution_count": null,
      "id": "8f565d30",
      "metadata": {
        "id": "8f565d30",
        "outputId": "d283a4c8-9ea6-4eaa-866e-279d91fd1aeb"
      },
      "outputs": [
        {
          "data": {
            "text/html": [
              "<div>\n",
              "<style scoped>\n",
              "    .dataframe tbody tr th:only-of-type {\n",
              "        vertical-align: middle;\n",
              "    }\n",
              "\n",
              "    .dataframe tbody tr th {\n",
              "        vertical-align: top;\n",
              "    }\n",
              "\n",
              "    .dataframe thead th {\n",
              "        text-align: right;\n",
              "    }\n",
              "</style>\n",
              "<table border=\"1\" class=\"dataframe\">\n",
              "  <thead>\n",
              "    <tr style=\"text-align: right;\">\n",
              "      <th></th>\n",
              "      <th>Survived</th>\n",
              "      <th>Pclass</th>\n",
              "      <th>Sex</th>\n",
              "      <th>Age</th>\n",
              "      <th>SibSp</th>\n",
              "      <th>Parch</th>\n",
              "      <th>Fare</th>\n",
              "      <th>Embarked</th>\n",
              "      <th>fam_mbrs</th>\n",
              "    </tr>\n",
              "  </thead>\n",
              "  <tbody>\n",
              "    <tr>\n",
              "      <th>0</th>\n",
              "      <td>0</td>\n",
              "      <td>3</td>\n",
              "      <td>1</td>\n",
              "      <td>22.0</td>\n",
              "      <td>1</td>\n",
              "      <td>0</td>\n",
              "      <td>7.2500</td>\n",
              "      <td>0</td>\n",
              "      <td>1</td>\n",
              "    </tr>\n",
              "    <tr>\n",
              "      <th>1</th>\n",
              "      <td>1</td>\n",
              "      <td>1</td>\n",
              "      <td>0</td>\n",
              "      <td>38.0</td>\n",
              "      <td>1</td>\n",
              "      <td>0</td>\n",
              "      <td>71.2833</td>\n",
              "      <td>1</td>\n",
              "      <td>1</td>\n",
              "    </tr>\n",
              "    <tr>\n",
              "      <th>2</th>\n",
              "      <td>1</td>\n",
              "      <td>3</td>\n",
              "      <td>0</td>\n",
              "      <td>26.0</td>\n",
              "      <td>0</td>\n",
              "      <td>0</td>\n",
              "      <td>7.9250</td>\n",
              "      <td>0</td>\n",
              "      <td>0</td>\n",
              "    </tr>\n",
              "    <tr>\n",
              "      <th>3</th>\n",
              "      <td>1</td>\n",
              "      <td>1</td>\n",
              "      <td>0</td>\n",
              "      <td>35.0</td>\n",
              "      <td>1</td>\n",
              "      <td>0</td>\n",
              "      <td>53.1000</td>\n",
              "      <td>0</td>\n",
              "      <td>1</td>\n",
              "    </tr>\n",
              "    <tr>\n",
              "      <th>4</th>\n",
              "      <td>0</td>\n",
              "      <td>3</td>\n",
              "      <td>1</td>\n",
              "      <td>35.0</td>\n",
              "      <td>0</td>\n",
              "      <td>0</td>\n",
              "      <td>8.0500</td>\n",
              "      <td>0</td>\n",
              "      <td>0</td>\n",
              "    </tr>\n",
              "  </tbody>\n",
              "</table>\n",
              "</div>"
            ],
            "text/plain": [
              "   Survived  Pclass  Sex   Age  SibSp  Parch     Fare  Embarked  fam_mbrs\n",
              "0         0       3    1  22.0      1      0   7.2500         0         1\n",
              "1         1       1    0  38.0      1      0  71.2833         1         1\n",
              "2         1       3    0  26.0      0      0   7.9250         0         0\n",
              "3         1       1    0  35.0      1      0  53.1000         0         1\n",
              "4         0       3    1  35.0      0      0   8.0500         0         0"
            ]
          },
          "execution_count": 23,
          "metadata": {},
          "output_type": "execute_result"
        }
      ],
      "source": [
        "#Verifying all our features are now numbers\n",
        "\n",
        "train_data.head()"
      ]
    },
    {
      "cell_type": "markdown",
      "id": "1c5a3c76",
      "metadata": {
        "id": "1c5a3c76"
      },
      "source": [
        "### FEATURE SCALING"
      ]
    },
    {
      "cell_type": "markdown",
      "id": "11233ef7",
      "metadata": {
        "id": "11233ef7"
      },
      "source": [
        "So now that we have all our features converted into numbers, are they ready for modeling? It depends if all our features are on the same scale or not. To read what does it mean to have different scales and the methods to standarize them, go to the following link: https://github.com/4GeeksAcademy/machine-learning-content/blob/master/05-3d-data/feature-scaling.ipynb\n",
        "\n",
        "After reading it we decide to implement the StandardScaler, but you are free to find reasons to scale your dataframe in a different way. "
      ]
    },
    {
      "cell_type": "code",
      "execution_count": null,
      "id": "2ce633bd",
      "metadata": {
        "id": "2ce633bd"
      },
      "outputs": [],
      "source": [
        "# import module\n",
        "from sklearn.preprocessing import MinMaxScaler\n",
        "\n",
        "scaler = MinMaxScaler()\n",
        "\n",
        "train_scaler = scaler.fit(train_data[['Age', 'Fare']])\n",
        "train_data[['Age', 'Fare']] = train_scaler.transform(train_data[['Age', 'Fare']])\n",
        "\n",
        "test_scaler = scaler.fit(test_data[['Age', 'Fare']])\n",
        "test_data[['Age', 'Fare']] = test_scaler.transform(test_data[['Age', 'Fare']])"
      ]
    },
    {
      "cell_type": "code",
      "execution_count": null,
      "id": "b916c404",
      "metadata": {
        "id": "b916c404",
        "outputId": "8fa8452d-4cdd-4b0f-ed7c-017c034afdf4"
      },
      "outputs": [
        {
          "data": {
            "text/html": [
              "<div>\n",
              "<style scoped>\n",
              "    .dataframe tbody tr th:only-of-type {\n",
              "        vertical-align: middle;\n",
              "    }\n",
              "\n",
              "    .dataframe tbody tr th {\n",
              "        vertical-align: top;\n",
              "    }\n",
              "\n",
              "    .dataframe thead th {\n",
              "        text-align: right;\n",
              "    }\n",
              "</style>\n",
              "<table border=\"1\" class=\"dataframe\">\n",
              "  <thead>\n",
              "    <tr style=\"text-align: right;\">\n",
              "      <th></th>\n",
              "      <th>Survived</th>\n",
              "      <th>Pclass</th>\n",
              "      <th>Sex</th>\n",
              "      <th>Age</th>\n",
              "      <th>SibSp</th>\n",
              "      <th>Parch</th>\n",
              "      <th>Fare</th>\n",
              "      <th>Embarked</th>\n",
              "      <th>fam_mbrs</th>\n",
              "    </tr>\n",
              "  </thead>\n",
              "  <tbody>\n",
              "    <tr>\n",
              "      <th>0</th>\n",
              "      <td>0</td>\n",
              "      <td>3</td>\n",
              "      <td>1</td>\n",
              "      <td>0.271174</td>\n",
              "      <td>1</td>\n",
              "      <td>0</td>\n",
              "      <td>0.027567</td>\n",
              "      <td>0</td>\n",
              "      <td>1</td>\n",
              "    </tr>\n",
              "    <tr>\n",
              "      <th>1</th>\n",
              "      <td>1</td>\n",
              "      <td>1</td>\n",
              "      <td>0</td>\n",
              "      <td>0.472229</td>\n",
              "      <td>1</td>\n",
              "      <td>0</td>\n",
              "      <td>0.271039</td>\n",
              "      <td>1</td>\n",
              "      <td>1</td>\n",
              "    </tr>\n",
              "    <tr>\n",
              "      <th>2</th>\n",
              "      <td>1</td>\n",
              "      <td>3</td>\n",
              "      <td>0</td>\n",
              "      <td>0.321438</td>\n",
              "      <td>0</td>\n",
              "      <td>0</td>\n",
              "      <td>0.030133</td>\n",
              "      <td>0</td>\n",
              "      <td>0</td>\n",
              "    </tr>\n",
              "    <tr>\n",
              "      <th>3</th>\n",
              "      <td>1</td>\n",
              "      <td>1</td>\n",
              "      <td>0</td>\n",
              "      <td>0.434531</td>\n",
              "      <td>1</td>\n",
              "      <td>0</td>\n",
              "      <td>0.201901</td>\n",
              "      <td>0</td>\n",
              "      <td>1</td>\n",
              "    </tr>\n",
              "    <tr>\n",
              "      <th>4</th>\n",
              "      <td>0</td>\n",
              "      <td>3</td>\n",
              "      <td>1</td>\n",
              "      <td>0.434531</td>\n",
              "      <td>0</td>\n",
              "      <td>0</td>\n",
              "      <td>0.030608</td>\n",
              "      <td>0</td>\n",
              "      <td>0</td>\n",
              "    </tr>\n",
              "  </tbody>\n",
              "</table>\n",
              "</div>"
            ],
            "text/plain": [
              "   Survived  Pclass  Sex       Age  SibSp  Parch      Fare  Embarked  fam_mbrs\n",
              "0         0       3    1  0.271174      1      0  0.027567         0         1\n",
              "1         1       1    0  0.472229      1      0  0.271039         1         1\n",
              "2         1       3    0  0.321438      0      0  0.030133         0         0\n",
              "3         1       1    0  0.434531      1      0  0.201901         0         1\n",
              "4         0       3    1  0.434531      0      0  0.030608         0         0"
            ]
          },
          "execution_count": 13,
          "metadata": {},
          "output_type": "execute_result"
        }
      ],
      "source": [
        "#Verifying\n",
        "\n",
        "train_data.head()"
      ]
    },
    {
      "cell_type": "code",
      "execution_count": null,
      "id": "514aad27",
      "metadata": {
        "id": "514aad27",
        "outputId": "0e243001-76c5-4f32-dfbb-ca0018b6df99"
      },
      "outputs": [
        {
          "data": {
            "text/html": [
              "<div>\n",
              "<style scoped>\n",
              "    .dataframe tbody tr th:only-of-type {\n",
              "        vertical-align: middle;\n",
              "    }\n",
              "\n",
              "    .dataframe tbody tr th {\n",
              "        vertical-align: top;\n",
              "    }\n",
              "\n",
              "    .dataframe thead th {\n",
              "        text-align: right;\n",
              "    }\n",
              "</style>\n",
              "<table border=\"1\" class=\"dataframe\">\n",
              "  <thead>\n",
              "    <tr style=\"text-align: right;\">\n",
              "      <th></th>\n",
              "      <th>Pclass</th>\n",
              "      <th>Sex</th>\n",
              "      <th>Age</th>\n",
              "      <th>SibSp</th>\n",
              "      <th>Parch</th>\n",
              "      <th>Fare</th>\n",
              "      <th>Embarked</th>\n",
              "      <th>fam_mbrs</th>\n",
              "    </tr>\n",
              "  </thead>\n",
              "  <tbody>\n",
              "    <tr>\n",
              "      <th>0</th>\n",
              "      <td>3</td>\n",
              "      <td>1</td>\n",
              "      <td>0.452723</td>\n",
              "      <td>0</td>\n",
              "      <td>0</td>\n",
              "      <td>0.015282</td>\n",
              "      <td>2</td>\n",
              "      <td>0</td>\n",
              "    </tr>\n",
              "    <tr>\n",
              "      <th>1</th>\n",
              "      <td>3</td>\n",
              "      <td>0</td>\n",
              "      <td>0.617566</td>\n",
              "      <td>1</td>\n",
              "      <td>0</td>\n",
              "      <td>0.013663</td>\n",
              "      <td>0</td>\n",
              "      <td>1</td>\n",
              "    </tr>\n",
              "    <tr>\n",
              "      <th>2</th>\n",
              "      <td>2</td>\n",
              "      <td>1</td>\n",
              "      <td>0.815377</td>\n",
              "      <td>0</td>\n",
              "      <td>0</td>\n",
              "      <td>0.018909</td>\n",
              "      <td>2</td>\n",
              "      <td>0</td>\n",
              "    </tr>\n",
              "    <tr>\n",
              "      <th>3</th>\n",
              "      <td>3</td>\n",
              "      <td>1</td>\n",
              "      <td>0.353818</td>\n",
              "      <td>0</td>\n",
              "      <td>0</td>\n",
              "      <td>0.016908</td>\n",
              "      <td>0</td>\n",
              "      <td>0</td>\n",
              "    </tr>\n",
              "    <tr>\n",
              "      <th>4</th>\n",
              "      <td>3</td>\n",
              "      <td>0</td>\n",
              "      <td>0.287881</td>\n",
              "      <td>1</td>\n",
              "      <td>1</td>\n",
              "      <td>0.023984</td>\n",
              "      <td>0</td>\n",
              "      <td>2</td>\n",
              "    </tr>\n",
              "  </tbody>\n",
              "</table>\n",
              "</div>"
            ],
            "text/plain": [
              "   Pclass  Sex       Age  SibSp  Parch      Fare  Embarked  fam_mbrs\n",
              "0       3    1  0.452723      0      0  0.015282         2         0\n",
              "1       3    0  0.617566      1      0  0.013663         0         1\n",
              "2       2    1  0.815377      0      0  0.018909         2         0\n",
              "3       3    1  0.353818      0      0  0.016908         0         0\n",
              "4       3    0  0.287881      1      1  0.023984         0         2"
            ]
          },
          "execution_count": 29,
          "metadata": {},
          "output_type": "execute_result"
        }
      ],
      "source": [
        "#Verifying\n",
        "\n",
        "test_data.head()"
      ]
    },
    {
      "cell_type": "markdown",
      "id": "945e66e6",
      "metadata": {
        "id": "945e66e6"
      },
      "source": [
        "**End of Day 2!**\n",
        "\n",
        "Now let's clean our project dataset and leave it almost ready for modeling!"
      ]
    },
    {
      "cell_type": "markdown",
      "id": "405c0f0f",
      "metadata": {
        "id": "405c0f0f"
      },
      "source": [
        "# Day 3: FEATURE SELECTION"
      ]
    },
    {
      "cell_type": "markdown",
      "id": "3410c95f",
      "metadata": {
        "id": "3410c95f"
      },
      "source": [
        "Go to the following link https://github.com/4GeeksAcademy/machine-learning-content/blob/master/05-3d-data/feature-selection.ipynb to read the information about when is it neccesary to make feature selection and what are the existing methods to do it."
      ]
    },
    {
      "cell_type": "markdown",
      "id": "c5fd03d0",
      "metadata": {
        "id": "c5fd03d0"
      },
      "source": [
        "How to retrieve the 5 right informative features in the Titanic dataset?"
      ]
    },
    {
      "cell_type": "code",
      "execution_count": null,
      "id": "a2bd3c35",
      "metadata": {
        "id": "a2bd3c35",
        "outputId": "270651c5-5974-4fbb-c3f1-7f81f8faed83"
      },
      "outputs": [
        {
          "data": {
            "text/html": [
              "<div>\n",
              "<style scoped>\n",
              "    .dataframe tbody tr th:only-of-type {\n",
              "        vertical-align: middle;\n",
              "    }\n",
              "\n",
              "    .dataframe tbody tr th {\n",
              "        vertical-align: top;\n",
              "    }\n",
              "\n",
              "    .dataframe thead th {\n",
              "        text-align: right;\n",
              "    }\n",
              "</style>\n",
              "<table border=\"1\" class=\"dataframe\">\n",
              "  <thead>\n",
              "    <tr style=\"text-align: right;\">\n",
              "      <th></th>\n",
              "      <th>Survived</th>\n",
              "      <th>Pclass</th>\n",
              "      <th>Sex</th>\n",
              "      <th>Age</th>\n",
              "      <th>SibSp</th>\n",
              "      <th>Parch</th>\n",
              "      <th>Fare</th>\n",
              "      <th>Embarked</th>\n",
              "      <th>fam_mbrs</th>\n",
              "    </tr>\n",
              "  </thead>\n",
              "  <tbody>\n",
              "    <tr>\n",
              "      <th>0</th>\n",
              "      <td>0</td>\n",
              "      <td>3</td>\n",
              "      <td>1</td>\n",
              "      <td>-0.563437</td>\n",
              "      <td>1</td>\n",
              "      <td>0</td>\n",
              "      <td>-0.566959</td>\n",
              "      <td>0</td>\n",
              "      <td>1</td>\n",
              "    </tr>\n",
              "    <tr>\n",
              "      <th>1</th>\n",
              "      <td>1</td>\n",
              "      <td>1</td>\n",
              "      <td>0</td>\n",
              "      <td>0.664528</td>\n",
              "      <td>1</td>\n",
              "      <td>0</td>\n",
              "      <td>0.989016</td>\n",
              "      <td>1</td>\n",
              "      <td>1</td>\n",
              "    </tr>\n",
              "    <tr>\n",
              "      <th>2</th>\n",
              "      <td>1</td>\n",
              "      <td>3</td>\n",
              "      <td>0</td>\n",
              "      <td>-0.256446</td>\n",
              "      <td>0</td>\n",
              "      <td>0</td>\n",
              "      <td>-0.550557</td>\n",
              "      <td>0</td>\n",
              "      <td>0</td>\n",
              "    </tr>\n",
              "    <tr>\n",
              "      <th>3</th>\n",
              "      <td>1</td>\n",
              "      <td>1</td>\n",
              "      <td>0</td>\n",
              "      <td>0.434285</td>\n",
              "      <td>1</td>\n",
              "      <td>0</td>\n",
              "      <td>0.547171</td>\n",
              "      <td>0</td>\n",
              "      <td>1</td>\n",
              "    </tr>\n",
              "    <tr>\n",
              "      <th>4</th>\n",
              "      <td>0</td>\n",
              "      <td>3</td>\n",
              "      <td>1</td>\n",
              "      <td>0.434285</td>\n",
              "      <td>0</td>\n",
              "      <td>0</td>\n",
              "      <td>-0.547519</td>\n",
              "      <td>0</td>\n",
              "      <td>0</td>\n",
              "    </tr>\n",
              "  </tbody>\n",
              "</table>\n",
              "</div>"
            ],
            "text/plain": [
              "   Survived  Pclass  Sex       Age  SibSp  Parch      Fare  Embarked  fam_mbrs\n",
              "0         0       3    1 -0.563437      1      0 -0.566959         0         1\n",
              "1         1       1    0  0.664528      1      0  0.989016         1         1\n",
              "2         1       3    0 -0.256446      0      0 -0.550557         0         0\n",
              "3         1       1    0  0.434285      1      0  0.547171         0         1\n",
              "4         0       3    1  0.434285      0      0 -0.547519         0         0"
            ]
          },
          "execution_count": 24,
          "metadata": {},
          "output_type": "execute_result"
        }
      ],
      "source": [
        "train_data.head()"
      ]
    },
    {
      "cell_type": "code",
      "execution_count": null,
      "id": "d7176c8f",
      "metadata": {
        "id": "d7176c8f"
      },
      "outputs": [],
      "source": [
        "#Separate features from target\n",
        "\n",
        "X = train_data.drop(\"Survived\",axis=1)\n",
        "y = train_data[\"Survived\"]"
      ]
    },
    {
      "cell_type": "code",
      "execution_count": null,
      "id": "5321b1eb",
      "metadata": {
        "id": "5321b1eb",
        "outputId": "c8ae9f78-2322-4678-dbc1-be86fbd1cd77"
      },
      "outputs": [
        {
          "data": {
            "text/html": [
              "<div>\n",
              "<style scoped>\n",
              "    .dataframe tbody tr th:only-of-type {\n",
              "        vertical-align: middle;\n",
              "    }\n",
              "\n",
              "    .dataframe tbody tr th {\n",
              "        vertical-align: top;\n",
              "    }\n",
              "\n",
              "    .dataframe thead th {\n",
              "        text-align: right;\n",
              "    }\n",
              "</style>\n",
              "<table border=\"1\" class=\"dataframe\">\n",
              "  <thead>\n",
              "    <tr style=\"text-align: right;\">\n",
              "      <th></th>\n",
              "      <th>Pclass</th>\n",
              "      <th>Sex</th>\n",
              "      <th>Parch</th>\n",
              "      <th>Fare</th>\n",
              "      <th>Embarked</th>\n",
              "    </tr>\n",
              "  </thead>\n",
              "  <tbody>\n",
              "    <tr>\n",
              "      <th>0</th>\n",
              "      <td>3.0</td>\n",
              "      <td>1.0</td>\n",
              "      <td>0.0</td>\n",
              "      <td>0.027567</td>\n",
              "      <td>0.0</td>\n",
              "    </tr>\n",
              "    <tr>\n",
              "      <th>1</th>\n",
              "      <td>1.0</td>\n",
              "      <td>0.0</td>\n",
              "      <td>0.0</td>\n",
              "      <td>0.271039</td>\n",
              "      <td>1.0</td>\n",
              "    </tr>\n",
              "    <tr>\n",
              "      <th>2</th>\n",
              "      <td>3.0</td>\n",
              "      <td>0.0</td>\n",
              "      <td>0.0</td>\n",
              "      <td>0.030133</td>\n",
              "      <td>0.0</td>\n",
              "    </tr>\n",
              "    <tr>\n",
              "      <th>3</th>\n",
              "      <td>1.0</td>\n",
              "      <td>0.0</td>\n",
              "      <td>0.0</td>\n",
              "      <td>0.201901</td>\n",
              "      <td>0.0</td>\n",
              "    </tr>\n",
              "    <tr>\n",
              "      <th>4</th>\n",
              "      <td>3.0</td>\n",
              "      <td>1.0</td>\n",
              "      <td>0.0</td>\n",
              "      <td>0.030608</td>\n",
              "      <td>0.0</td>\n",
              "    </tr>\n",
              "  </tbody>\n",
              "</table>\n",
              "</div>"
            ],
            "text/plain": [
              "   Pclass  Sex  Parch      Fare  Embarked\n",
              "0     3.0  1.0    0.0  0.027567       0.0\n",
              "1     1.0  0.0    0.0  0.271039       1.0\n",
              "2     3.0  0.0    0.0  0.030133       0.0\n",
              "3     1.0  0.0    0.0  0.201901       0.0\n",
              "4     3.0  1.0    0.0  0.030608       0.0"
            ]
          },
          "execution_count": 15,
          "metadata": {},
          "output_type": "execute_result"
        }
      ],
      "source": [
        "from sklearn.feature_selection import SelectKBest\n",
        "from sklearn.feature_selection import chi2\n",
        "\n",
        "mdlsel = SelectKBest(chi2, k=5) \n",
        "mdlsel.fit(X,y)\n",
        "ix = mdlsel.get_support() \n",
        "data2 = pd.DataFrame(mdlsel.transform(X), columns = X.columns.values[ix])\n",
        "\n",
        "data2.head(n=5)"
      ]
    },
    {
      "cell_type": "markdown",
      "id": "cea139cf",
      "metadata": {
        "id": "cea139cf"
      },
      "source": [
        "In this case, using the Chi square feature selection, the most important features are 'Pclass', 'Sex','Parch','Fare' and 'Embarked'.\n",
        "\n",
        "This is just to show you how to apply one of the feature selection methods in the Titanic dataset in order to reduce the number of features before modeling, however, Titanic is a short dataset so you should evaluate if doing feature selection or not. \n",
        "\n",
        "There are algorithms that include feature selection in their modeling process( for example Lasso modeling).\n",
        "\n",
        "This process is very related to the modeling process, because, in order to verify if we are doing a good feature selection, sometimes is necessary to do some modeling with different feature groups to find out the accuracy achieved.\n",
        "\n",
        "Now go ahead and analyse your project dataframe! \n",
        "\n"
      ]
    },
    {
      "cell_type": "markdown",
      "id": "cf25d93b",
      "metadata": {
        "id": "cf25d93b"
      },
      "source": [
        "Source:\n",
        "\n",
        "https://www.dataquest.io/blog/pandas-python-tutorial/\n",
        "\n",
        "https://www.kdnuggets.com/2020/07/exploratory-data-analysis-steroids.html\n",
        "\n",
        "https://www.dataquest.io/blog/pandas-tutorial-python-2/\n",
        "\n",
        "https://medium.com/analytics-vidhya/introduction-to-exploratory-data-analysis-for-image-text-based-data-1179e194df3f#:~:text=Exploratory%20data%20analysis%20is%20the%20first%20step%20towards,the%20closer%20you%20get%20to%20solving%20the%20problem.\n",
        "\n",
        "https://medium.com/epfl-extension-school/advanced-exploratory-data-analysis-eda-with-python-536fa83c578a"
      ]
    }
  ],
  "metadata": {
    "colab": {
      "name": "exploratory_data_analysis (2).ipynb",
      "provenance": []
    },
    "kernelspec": {
      "display_name": "Python 3.9.13 64-bit",
      "language": "python",
      "name": "python3"
    },
    "language_info": {
      "codemirror_mode": {
        "name": "ipython",
        "version": 3
      },
      "file_extension": ".py",
      "mimetype": "text/x-python",
      "name": "python",
      "nbconvert_exporter": "python",
      "pygments_lexer": "ipython3",
      "version": "3.9.13"
    },
    "vscode": {
      "interpreter": {
        "hash": "c8c743905bc2ee8c9ed05ae377a3a8ee6d3dfe3b64b4447ae11452d0acb97050"
      }
    }
  },
  "nbformat": 4,
  "nbformat_minor": 5
}
